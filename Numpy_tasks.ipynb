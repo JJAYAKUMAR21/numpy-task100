{
  "cells": [
    {
      "cell_type": "markdown",
      "metadata": {
        "id": "view-in-github",
        "colab_type": "text"
      },
      "source": [
        "<a href=\"https://colab.research.google.com/github/JJAYAKUMAR21/numpy-task100/blob/main/Numpy_tasks.ipynb\" target=\"_parent\"><img src=\"https://colab.research.google.com/assets/colab-badge.svg\" alt=\"Open In Colab\"/></a>"
      ]
    },
    {
      "cell_type": "markdown",
      "metadata": {
        "id": "RVfU4VU0bX24"
      },
      "source": [
        "# Numpy\n",
        "\n"
      ]
    },
    {
      "cell_type": "markdown",
      "metadata": {
        "id": "RhZScyTxbX29"
      },
      "source": [
        "#### 1. Import the numpy package under the name `np` (★☆☆) \n",
        "(**hint**: import … as …)"
      ]
    },
    {
      "cell_type": "code",
      "execution_count": 2,
      "metadata": {
        "collapsed": true,
        "id": "qnWmJSftbX2-"
      },
      "outputs": [],
      "source": [
        "import numpy as np"
      ]
    },
    {
      "cell_type": "markdown",
      "metadata": {
        "id": "HgDuqhz6bX3A"
      },
      "source": [
        "#### 2. Print the numpy version and the configuration (★☆☆) \n",
        "(**hint**: np.\\_\\_version\\_\\_, np.show\\_config)"
      ]
    },
    {
      "cell_type": "code",
      "execution_count": 2,
      "metadata": {
        "colab": {
          "base_uri": "https://localhost:8080/"
        },
        "id": "PIJvAOF7bX3B",
        "outputId": "97d6af66-397a-4a90-89dd-479f2177a8a6"
      },
      "outputs": [
        {
          "output_type": "stream",
          "name": "stdout",
          "text": [
            "1.21.6\n",
            "blas_mkl_info:\n",
            "  NOT AVAILABLE\n",
            "blis_info:\n",
            "  NOT AVAILABLE\n",
            "openblas_info:\n",
            "    libraries = ['openblas', 'openblas']\n",
            "    library_dirs = ['/usr/local/lib']\n",
            "    language = c\n",
            "    define_macros = [('HAVE_CBLAS', None)]\n",
            "    runtime_library_dirs = ['/usr/local/lib']\n",
            "blas_opt_info:\n",
            "    libraries = ['openblas', 'openblas']\n",
            "    library_dirs = ['/usr/local/lib']\n",
            "    language = c\n",
            "    define_macros = [('HAVE_CBLAS', None)]\n",
            "    runtime_library_dirs = ['/usr/local/lib']\n",
            "lapack_mkl_info:\n",
            "  NOT AVAILABLE\n",
            "openblas_lapack_info:\n",
            "    libraries = ['openblas', 'openblas']\n",
            "    library_dirs = ['/usr/local/lib']\n",
            "    language = c\n",
            "    define_macros = [('HAVE_CBLAS', None)]\n",
            "    runtime_library_dirs = ['/usr/local/lib']\n",
            "lapack_opt_info:\n",
            "    libraries = ['openblas', 'openblas']\n",
            "    library_dirs = ['/usr/local/lib']\n",
            "    language = c\n",
            "    define_macros = [('HAVE_CBLAS', None)]\n",
            "    runtime_library_dirs = ['/usr/local/lib']\n",
            "Supported SIMD extensions in this NumPy install:\n",
            "    baseline = SSE,SSE2,SSE3\n",
            "    found = SSSE3,SSE41,POPCNT,SSE42,AVX,F16C,FMA3,AVX2\n",
            "    not found = AVX512F,AVX512CD,AVX512_KNL,AVX512_KNM,AVX512_SKX,AVX512_CLX,AVX512_CNL,AVX512_ICL\n"
          ]
        }
      ],
      "source": [
        "print(np.__version__)\n",
        "np.show_config()"
      ]
    },
    {
      "cell_type": "markdown",
      "metadata": {
        "id": "qWTwaV0QbX3B"
      },
      "source": [
        "#### 3. Create a null vector of size 10 (★☆☆) \n",
        "(**hint**: np.zeros)"
      ]
    },
    {
      "cell_type": "code",
      "execution_count": 3,
      "metadata": {
        "colab": {
          "base_uri": "https://localhost:8080/"
        },
        "id": "J05lLueQbX3C",
        "outputId": "51a0b81b-573d-4f0c-c647-7e3658cd4b6b"
      },
      "outputs": [
        {
          "output_type": "stream",
          "name": "stdout",
          "text": [
            "[0. 0. 0. 0. 0. 0. 0. 0. 0. 0.]\n"
          ]
        }
      ],
      "source": [
        "x = np.zeros(10)\n",
        "print(x)"
      ]
    },
    {
      "cell_type": "markdown",
      "metadata": {
        "id": "28AYp1YJbX3C"
      },
      "source": [
        "#### 4.  How to find the memory size of any array (★☆☆) \n",
        "(**hint**: size, itemsize)"
      ]
    },
    {
      "cell_type": "code",
      "execution_count": 4,
      "metadata": {
        "colab": {
          "base_uri": "https://localhost:8080/"
        },
        "id": "v_mL2g0XbX3E",
        "outputId": "10930c8f-564e-4a18-ef13-ec87c8a3a840"
      },
      "outputs": [
        {
          "output_type": "stream",
          "name": "stdout",
          "text": [
            "800 bytes\n"
          ]
        }
      ],
      "source": [
        "x = np.zeros((10,10))\n",
        "print(\"%d bytes\" % (x.size * x.itemsize))"
      ]
    },
    {
      "cell_type": "markdown",
      "metadata": {
        "id": "rXOE8FztbX3F"
      },
      "source": [
        "#### 5.  How to get the documentation of the numpy add function from the command line? (★☆☆) \n",
        "(**hint**: np.info)"
      ]
    },
    {
      "cell_type": "code",
      "execution_count": null,
      "metadata": {
        "collapsed": true,
        "id": "aQ19rJCZbX3G"
      },
      "outputs": [],
      "source": [
        "%run `python -c \"import numpy; numpy.info(numpy.add)\"`"
      ]
    },
    {
      "cell_type": "markdown",
      "metadata": {
        "id": "HAPgWdW0bX3G"
      },
      "source": [
        "#### 6.  Create a null vector of size 10 but the fifth value which is 1 (★☆☆) \n",
        "(**hint**: array\\[4\\])"
      ]
    },
    {
      "cell_type": "code",
      "execution_count": 6,
      "metadata": {
        "colab": {
          "base_uri": "https://localhost:8080/"
        },
        "id": "_AIeV9U_bX3H",
        "outputId": "4055fc61-4455-4e46-b6e8-3b255608261a"
      },
      "outputs": [
        {
          "output_type": "stream",
          "name": "stdout",
          "text": [
            "[0. 0. 0. 0. 1. 0. 0. 0. 0. 0.]\n"
          ]
        }
      ],
      "source": [
        "x = np.zeros(10)\n",
        "x[4] = 1\n",
        "print(x)"
      ]
    },
    {
      "cell_type": "markdown",
      "metadata": {
        "id": "oqEPWOIJbX3H"
      },
      "source": [
        "#### 7.  Create a vector with values ranging from 10 to 49 (★☆☆) \n",
        "(**hint**: np.arange)"
      ]
    },
    {
      "cell_type": "code",
      "execution_count": 7,
      "metadata": {
        "colab": {
          "base_uri": "https://localhost:8080/"
        },
        "id": "-SJHfuBGbX3I",
        "outputId": "b397e2bd-0979-436c-ac39-9aea9cd669f8"
      },
      "outputs": [
        {
          "output_type": "stream",
          "name": "stdout",
          "text": [
            "[10 11 12 13 14 15 16 17 18 19 20 21 22 23 24 25 26 27 28 29 30 31 32 33\n",
            " 34 35 36 37 38 39 40 41 42 43 44 45 46 47 48 49]\n"
          ]
        }
      ],
      "source": [
        "x = np.arange(10,50)\n",
        "print(x)"
      ]
    },
    {
      "cell_type": "markdown",
      "metadata": {
        "id": "h1snCK5ObX3I"
      },
      "source": [
        "#### 8.  Reverse a vector (first element becomes last) (★☆☆) \n",
        "(**hint**: array\\[::-1\\])"
      ]
    },
    {
      "cell_type": "code",
      "execution_count": 9,
      "metadata": {
        "colab": {
          "base_uri": "https://localhost:8080/"
        },
        "id": "ykUnoKAYbX3J",
        "outputId": "5b88cecb-101c-4d51-fe8d-735a23ac65dc"
      },
      "outputs": [
        {
          "output_type": "stream",
          "name": "stdout",
          "text": [
            "[49 48 47 46 45 44 43 42 41 40 39 38 37 36 35 34 33 32 31 30 29 28 27 26\n",
            " 25 24 23 22 21 20 19 18 17 16 15 14 13 12 11 10  9  8  7  6  5  4  3  2\n",
            "  1  0]\n"
          ]
        }
      ],
      "source": [
        "y = np.arange(50)\n",
        "y = y[::-1]\n",
        "print(y)"
      ]
    },
    {
      "cell_type": "markdown",
      "metadata": {
        "id": "GuVNLHEMbX3J"
      },
      "source": [
        "#### 9.  Create a 3x3 matrix with values ranging from 0 to 8 (★☆☆) \n",
        "(**hint**: reshape)"
      ]
    },
    {
      "cell_type": "code",
      "execution_count": 10,
      "metadata": {
        "colab": {
          "base_uri": "https://localhost:8080/"
        },
        "id": "_GZ6g7C0bX3J",
        "outputId": "9248a039-7677-4087-adb2-5753644ca8ef"
      },
      "outputs": [
        {
          "output_type": "stream",
          "name": "stdout",
          "text": [
            "[[0 1 2]\n",
            " [3 4 5]\n",
            " [6 7 8]]\n"
          ]
        }
      ],
      "source": [
        "Z = np.arange(9).reshape(3, 3)\n",
        "print(Z)"
      ]
    },
    {
      "cell_type": "markdown",
      "metadata": {
        "id": "o_tRoHHdbX3K"
      },
      "source": [
        "#### 10. Find indices of non-zero elements from \\[1,2,0,0,4,0\\] (★☆☆) \n",
        "(**hint**: np.nonzero)"
      ]
    },
    {
      "cell_type": "code",
      "execution_count": 11,
      "metadata": {
        "colab": {
          "base_uri": "https://localhost:8080/"
        },
        "id": "pFF3Y7L2bX3L",
        "outputId": "6273a85f-62d0-400c-ceb0-c93b1700c962"
      },
      "outputs": [
        {
          "output_type": "stream",
          "name": "stdout",
          "text": [
            "(array([0, 1, 4]),)\n"
          ]
        }
      ],
      "source": [
        "x = np.nonzero([1,2,0,0,4,0])\n",
        "print(x)"
      ]
    },
    {
      "cell_type": "markdown",
      "metadata": {
        "id": "tr4xMTvNbX3L"
      },
      "source": [
        "#### 11. Create a 3x3 identity matrix (★☆☆) \n",
        "(**hint**: np.eye)"
      ]
    },
    {
      "cell_type": "code",
      "execution_count": 12,
      "metadata": {
        "colab": {
          "base_uri": "https://localhost:8080/"
        },
        "id": "bGFCBRW8bX3M",
        "outputId": "83199c0f-e3b1-46ae-9a67-00c043ffbfb3"
      },
      "outputs": [
        {
          "output_type": "stream",
          "name": "stdout",
          "text": [
            "[[1. 0. 0.]\n",
            " [0. 1. 0.]\n",
            " [0. 0. 1.]]\n"
          ]
        }
      ],
      "source": [
        "Z = np.eye(3)\n",
        "print(Z)"
      ]
    },
    {
      "cell_type": "markdown",
      "metadata": {
        "id": "R2XQZw1pbX3M"
      },
      "source": [
        "#### 12. Create a 3x3x3 array with random values (★☆☆) \n",
        "(**hint**: np.random.random)"
      ]
    },
    {
      "cell_type": "code",
      "execution_count": 13,
      "metadata": {
        "collapsed": true,
        "colab": {
          "base_uri": "https://localhost:8080/"
        },
        "id": "LozDnjyWbX3N",
        "outputId": "f54b96dc-51d3-4548-da80-e8cc748607de"
      },
      "outputs": [
        {
          "output_type": "stream",
          "name": "stdout",
          "text": [
            "[[[0.08136813 0.55567766 0.8762153 ]\n",
            "  [0.32589284 0.45581546 0.61619025]\n",
            "  [0.43713037 0.72158066 0.88964589]]\n",
            "\n",
            " [[0.9291214  0.21944925 0.81322278]\n",
            "  [0.42852602 0.98915016 0.89018168]\n",
            "  [0.91864597 0.90969996 0.7210831 ]]\n",
            "\n",
            " [[0.53459229 0.90187774 0.20719058]\n",
            "  [0.14943278 0.55037644 0.86777329]\n",
            "  [0.21569846 0.27235413 0.42280213]]]\n"
          ]
        }
      ],
      "source": [
        "x = np.random.random((3,3,3))\n",
        "print(x)"
      ]
    },
    {
      "cell_type": "markdown",
      "metadata": {
        "id": "Pqnzc7v3bX3N"
      },
      "source": [
        "#### 13. Create a 10x10 array with random values and find the minimum and maximum values (★☆☆) \n",
        "(**hint**: min, max)"
      ]
    },
    {
      "cell_type": "code",
      "execution_count": 14,
      "metadata": {
        "colab": {
          "base_uri": "https://localhost:8080/"
        },
        "id": "2EdUUwS3bX3O",
        "outputId": "34ff7061-fa4a-41a8-91bf-dfc4e1b968de"
      },
      "outputs": [
        {
          "output_type": "stream",
          "name": "stdout",
          "text": [
            "0.0004171671218771156 0.9910483179370746\n"
          ]
        }
      ],
      "source": [
        "x = np.random.random((10,10))\n",
        "xmin, xmax = x.min(), x.max()\n",
        "print(xmin, xmax)"
      ]
    },
    {
      "cell_type": "markdown",
      "metadata": {
        "id": "prOSnWYPbX3O"
      },
      "source": [
        "#### 14. Create a random vector of size 30 and find the mean value (★☆☆) \n",
        "(**hint**: mean)"
      ]
    },
    {
      "cell_type": "code",
      "execution_count": 15,
      "metadata": {
        "colab": {
          "base_uri": "https://localhost:8080/"
        },
        "id": "THETJ8fcbX3P",
        "outputId": "387b59bb-2f66-4907-c0ed-02e99c2702dc"
      },
      "outputs": [
        {
          "output_type": "stream",
          "name": "stdout",
          "text": [
            "0.4762401755188366\n"
          ]
        }
      ],
      "source": [
        "Z = np.random.random(30)\n",
        "m = Z.mean()\n",
        "print(m)"
      ]
    },
    {
      "cell_type": "markdown",
      "metadata": {
        "id": "deg8sFvLbX3P"
      },
      "source": [
        "#### 15. Create a 2d array with 1 on the border and 0 inside (★☆☆) \n",
        "(**hint**: array\\[1:-1, 1:-1\\])"
      ]
    },
    {
      "cell_type": "code",
      "execution_count": 16,
      "metadata": {
        "colab": {
          "base_uri": "https://localhost:8080/"
        },
        "id": "kfraGNTpbX3P",
        "outputId": "42fa293a-126f-4520-8659-74a38086d58f"
      },
      "outputs": [
        {
          "output_type": "stream",
          "name": "stdout",
          "text": [
            "[[1. 1. 1. 1. 1. 1. 1. 1. 1. 1.]\n",
            " [1. 0. 0. 0. 0. 0. 0. 0. 0. 1.]\n",
            " [1. 0. 0. 0. 0. 0. 0. 0. 0. 1.]\n",
            " [1. 0. 0. 0. 0. 0. 0. 0. 0. 1.]\n",
            " [1. 0. 0. 0. 0. 0. 0. 0. 0. 1.]\n",
            " [1. 0. 0. 0. 0. 0. 0. 0. 0. 1.]\n",
            " [1. 0. 0. 0. 0. 0. 0. 0. 0. 1.]\n",
            " [1. 0. 0. 0. 0. 0. 0. 0. 0. 1.]\n",
            " [1. 0. 0. 0. 0. 0. 0. 0. 0. 1.]\n",
            " [1. 1. 1. 1. 1. 1. 1. 1. 1. 1.]]\n"
          ]
        }
      ],
      "source": [
        "x = np.ones((10,10))\n",
        "x[1:-1,1:-1] = 0\n",
        "print(x)"
      ]
    },
    {
      "cell_type": "markdown",
      "metadata": {
        "id": "_D6p5D6rbX3P"
      },
      "source": [
        "#### 16. How to add a border (filled with 0's) around an existing array? (★☆☆) \n",
        "(**hint**: np.pad)"
      ]
    },
    {
      "cell_type": "code",
      "execution_count": 17,
      "metadata": {
        "colab": {
          "base_uri": "https://localhost:8080/"
        },
        "id": "LBTrBeehbX3Q",
        "outputId": "05e05b79-2de2-4c2a-8537-b96fda97408d"
      },
      "outputs": [
        {
          "output_type": "stream",
          "name": "stdout",
          "text": [
            "[[0. 0. 0. 0. 0. 0. 0.]\n",
            " [0. 1. 1. 1. 1. 1. 0.]\n",
            " [0. 1. 1. 1. 1. 1. 0.]\n",
            " [0. 1. 1. 1. 1. 1. 0.]\n",
            " [0. 1. 1. 1. 1. 1. 0.]\n",
            " [0. 1. 1. 1. 1. 1. 0.]\n",
            " [0. 0. 0. 0. 0. 0. 0.]]\n"
          ]
        }
      ],
      "source": [
        "y = np.ones((5,5))\n",
        "y = np.pad(y, pad_width=1, mode='constant', constant_values=0)\n",
        "print(y)"
      ]
    },
    {
      "cell_type": "markdown",
      "metadata": {
        "id": "bUaNCreubX3Q"
      },
      "source": [
        "#### 17. What is the result of the following expression? (★☆☆) \n",
        "(**hint**: NaN = not a number, inf = infinity)"
      ]
    },
    {
      "cell_type": "markdown",
      "metadata": {
        "id": "jezETAi9bX3R"
      },
      "source": [
        "```python\n",
        "0 * np.nan\n",
        "np.nan == np.nan\n",
        "np.inf > np.nan\n",
        "np.nan - np.nan\n",
        "0.3 == 3 * 0.1\n",
        "```"
      ]
    },
    {
      "cell_type": "code",
      "execution_count": 18,
      "metadata": {
        "colab": {
          "base_uri": "https://localhost:8080/"
        },
        "id": "0CEX8_-nbX3S",
        "outputId": "b62a050c-4bdc-4a7e-bb74-34c75b04ef58"
      },
      "outputs": [
        {
          "output_type": "stream",
          "name": "stdout",
          "text": [
            "nan\n",
            "False\n",
            "False\n",
            "nan\n",
            "True\n",
            "False\n"
          ]
        }
      ],
      "source": [
        "print(0 * np.nan)\n",
        "print(np.nan == np.nan)\n",
        "print(np.inf > np.nan)\n",
        "print(np.nan - np.nan)\n",
        "print(np.nan in set([np.nan]))\n",
        "print(0.3 == 3 * 0.1)"
      ]
    },
    {
      "cell_type": "markdown",
      "metadata": {
        "id": "3eEFtEaPbX3T"
      },
      "source": [
        "#### 18. Create a 5x5 matrix with values 1,2,3,4 just below the diagonal (★☆☆) \n",
        "(**hint**: np.diag)"
      ]
    },
    {
      "cell_type": "code",
      "execution_count": 19,
      "metadata": {
        "colab": {
          "base_uri": "https://localhost:8080/"
        },
        "id": "LneUG4WDbX3T",
        "outputId": "a8c8f3ac-f10a-43d0-c044-09b264695f56"
      },
      "outputs": [
        {
          "output_type": "stream",
          "name": "stdout",
          "text": [
            "[[0 0 0 0 0]\n",
            " [1 0 0 0 0]\n",
            " [0 2 0 0 0]\n",
            " [0 0 3 0 0]\n",
            " [0 0 0 4 0]]\n"
          ]
        }
      ],
      "source": [
        "a = np.diag(1+np.arange(4),k=-1)\n",
        "print(a)"
      ]
    },
    {
      "cell_type": "markdown",
      "metadata": {
        "id": "kLqTCW4AbX3T"
      },
      "source": [
        "#### 19. Create a 8x8 matrix and fill it with a checkerboard pattern (★☆☆) \n",
        "(**hint**: array\\[::2\\])"
      ]
    },
    {
      "cell_type": "code",
      "execution_count": 22,
      "metadata": {
        "colab": {
          "base_uri": "https://localhost:8080/"
        },
        "id": "p6rDkT_QbX3U",
        "outputId": "7f51ad99-0b14-4e96-fc92-9d8b682e1a4e"
      },
      "outputs": [
        {
          "output_type": "stream",
          "name": "stdout",
          "text": [
            "[[0 1 0 1 0 1 0 1]\n",
            " [0 1 0 1 0 1 0 1]\n",
            " [0 1 0 1 0 1 0 1]\n",
            " [0 1 0 1 0 1 0 1]\n",
            " [0 1 0 1 0 1 0 1]\n",
            " [0 1 0 1 0 1 0 1]\n",
            " [0 1 0 1 0 1 0 1]\n",
            " [0 1 0 1 0 1 0 1]]\n"
          ]
        }
      ],
      "source": [
        "array = np.ones(64,dtype=int)\n",
        "array[::2]=0\n",
        "array = array.reshape((8,8))\n",
        "print(array)\n"
      ]
    },
    {
      "cell_type": "markdown",
      "metadata": {
        "id": "YG_917RLbX3V"
      },
      "source": [
        "#### 20. Consider a (6,7,8) shape array, what is the index (x,y,z) of the 100th element? \n",
        "(**hint**: np.unravel_index)"
      ]
    },
    {
      "cell_type": "code",
      "execution_count": 23,
      "metadata": {
        "colab": {
          "base_uri": "https://localhost:8080/"
        },
        "id": "mqrFhPLAbX3V",
        "outputId": "d2d423c7-4aa7-4c67-e03e-d240f0366b68"
      },
      "outputs": [
        {
          "output_type": "stream",
          "name": "stdout",
          "text": [
            "(1, 5, 3)\n"
          ]
        }
      ],
      "source": [
        "print(np.unravel_index(99,(6,7,8)))"
      ]
    },
    {
      "cell_type": "markdown",
      "metadata": {
        "id": "3hcpWsmObX3W"
      },
      "source": [
        "#### 21. Create a checkerboard 8x8 matrix using the tile function (★☆☆) \n",
        "(**hint**: np.tile)"
      ]
    },
    {
      "cell_type": "code",
      "execution_count": 24,
      "metadata": {
        "colab": {
          "base_uri": "https://localhost:8080/"
        },
        "id": "GQsP7ABNbX3X",
        "outputId": "eaa29b90-f56b-4fc3-95d8-311a400b96b5"
      },
      "outputs": [
        {
          "output_type": "stream",
          "name": "stdout",
          "text": [
            "[[0 1 0 1 0 1 0 1]\n",
            " [1 0 1 0 1 0 1 0]\n",
            " [0 1 0 1 0 1 0 1]\n",
            " [1 0 1 0 1 0 1 0]\n",
            " [0 1 0 1 0 1 0 1]\n",
            " [1 0 1 0 1 0 1 0]\n",
            " [0 1 0 1 0 1 0 1]\n",
            " [1 0 1 0 1 0 1 0]]\n"
          ]
        }
      ],
      "source": [
        "a = np.tile( np.array([[0,1],[1,0]]), (4,4))\n",
        "print(a)"
      ]
    },
    {
      "cell_type": "markdown",
      "metadata": {
        "id": "BanLEegGbX3X"
      },
      "source": [
        "#### 22. Normalize a 5x5 random matrix (★☆☆) \n",
        "(**hint**: (x - min) / (max - min))"
      ]
    },
    {
      "cell_type": "code",
      "execution_count": 25,
      "metadata": {
        "colab": {
          "base_uri": "https://localhost:8080/"
        },
        "id": "4ZBLBZO9bX3X",
        "outputId": "952cdb4a-223f-45f6-d770-b4b4e22fd846"
      },
      "outputs": [
        {
          "output_type": "stream",
          "name": "stdout",
          "text": [
            "[[ 0.17473861  1.45264374  0.42663683  1.82753845  0.50272217]\n",
            " [ 0.89915831 -0.24218838 -0.23017335  0.92081304 -1.23619226]\n",
            " [ 1.39104962 -1.28339034  1.59004067 -1.03193832  0.1768319 ]\n",
            " [-0.11914758 -0.4114933  -1.30204085 -0.97557935 -1.62130692]\n",
            " [-0.05148302  0.71777828 -1.58188923 -0.22292199  0.22979325]]\n"
          ]
        }
      ],
      "source": [
        "y = np.random.random((5,5))\n",
        "y = (y - np.mean (y)) / (np.std (y))\n",
        "print(y)"
      ]
    },
    {
      "cell_type": "markdown",
      "metadata": {
        "id": "lwCHf_mqbX3Y"
      },
      "source": [
        "#### 23. Create a custom dtype that describes a color as four unsigned bytes (RGBA) (★☆☆) \n",
        "(**hint**: np.dtype)"
      ]
    },
    {
      "cell_type": "code",
      "execution_count": 28,
      "metadata": {
        "collapsed": true,
        "id": "QGtH7vbGbX3Y"
      },
      "outputs": [],
      "source": [
        "color = np.dtype([(\"R\", np.ubyte),\n",
        "                  (\"G\", np.ubyte),\n",
        "                  (\"B\", np.ubyte),\n",
        "                  (\"A\", np.ubyte)])"
      ]
    },
    {
      "cell_type": "markdown",
      "metadata": {
        "id": "8VyItlFxbX3Y"
      },
      "source": [
        "#### 24. Multiply a 5x3 matrix by a 3x2 matrix (real matrix product) (★☆☆) \n",
        "(**hint**: np.dot | @)"
      ]
    },
    {
      "cell_type": "code",
      "execution_count": 29,
      "metadata": {
        "colab": {
          "base_uri": "https://localhost:8080/"
        },
        "id": "BBt0v2xwbX3Z",
        "outputId": "bac5d4ea-bd94-4270-d331-b5e6a88c6dbd"
      },
      "outputs": [
        {
          "output_type": "stream",
          "name": "stdout",
          "text": [
            "[[3. 3.]\n",
            " [3. 3.]\n",
            " [3. 3.]\n",
            " [3. 3.]\n",
            " [3. 3.]]\n"
          ]
        }
      ],
      "source": [
        "Z = np.dot(np.ones((5,3)), np.ones((3,2)))\n",
        "print(Z)"
      ]
    },
    {
      "cell_type": "markdown",
      "metadata": {
        "id": "jJqZgrW_bX3Z"
      },
      "source": [
        "#### 25. Given a 1D array, negate all elements which are between 3 and 8, in place. (★☆☆) \n",
        "(**hint**: >, <=)"
      ]
    },
    {
      "cell_type": "code",
      "execution_count": 30,
      "metadata": {
        "colab": {
          "base_uri": "https://localhost:8080/"
        },
        "id": "Npdzz3GRbX3Z",
        "outputId": "b5cd4e80-358a-4cea-bf66-355db33d409c"
      },
      "outputs": [
        {
          "output_type": "stream",
          "name": "stdout",
          "text": [
            "[ 0  1  2  3 -4 -5 -6 -7  8  9 10]\n"
          ]
        }
      ],
      "source": [
        "X = np.arange(11)\n",
        "X[(3 < X) & (X < 8)] *= -1\n",
        "print(X)"
      ]
    },
    {
      "cell_type": "markdown",
      "metadata": {
        "id": "Oqxqj5oEbX3a"
      },
      "source": [
        "#### 26. What is the output of the following script? (★☆☆) \n",
        "(**hint**: np.sum)"
      ]
    },
    {
      "cell_type": "markdown",
      "metadata": {
        "id": "whU9_f5VbX3b"
      },
      "source": [
        "```python\n",
        "# Author: Jake VanderPlas\n",
        "\n",
        "print(sum(range(5),-1))\n",
        "from numpy import *\n",
        "print(sum(range(5),-1))\n",
        "```"
      ]
    },
    {
      "cell_type": "code",
      "execution_count": 31,
      "metadata": {
        "colab": {
          "base_uri": "https://localhost:8080/"
        },
        "id": "WxO6RujjbX3b",
        "outputId": "e6c8bf1c-a418-49e4-9522-9dfbf8b6e945"
      },
      "outputs": [
        {
          "output_type": "stream",
          "name": "stdout",
          "text": [
            "9\n",
            "10\n"
          ]
        }
      ],
      "source": [
        "print(sum(range(5),-1))\n",
        "from numpy import *\n",
        "print(sum(range(5),-1))"
      ]
    },
    {
      "cell_type": "markdown",
      "metadata": {
        "id": "n5M5mPelbX3b"
      },
      "source": [
        "#### 27. Consider an integer vector Z, which of these expressions are legal? (★☆☆)"
      ]
    },
    {
      "cell_type": "markdown",
      "metadata": {
        "id": "M7jGU3gjbX3c"
      },
      "source": [
        "```python\n",
        "Z**Z\n",
        "2 << Z >> 2\n",
        "Z <- Z\n",
        "1j*Z\n",
        "Z/1/1\n",
        "Z<Z>Z\n",
        "```"
      ]
    },
    {
      "cell_type": "code",
      "execution_count": null,
      "metadata": {
        "id": "Zl8-JnTVbX3c"
      },
      "outputs": [],
      "source": [
        "all\n"
      ]
    },
    {
      "cell_type": "markdown",
      "metadata": {
        "id": "lSwpL6lybX3c"
      },
      "source": [
        "#### 28. What are the result of the following expressions?"
      ]
    },
    {
      "cell_type": "markdown",
      "metadata": {
        "id": "cHpaqBzZbX3d"
      },
      "source": [
        "```python\n",
        "np.array(0) / np.array(0)\n",
        "np.array(0) // np.array(0)\n",
        "np.array([np.nan]).astype(int).astype(float)\n",
        "```"
      ]
    },
    {
      "cell_type": "code",
      "execution_count": 34,
      "metadata": {
        "colab": {
          "base_uri": "https://localhost:8080/"
        },
        "id": "K8beDmsQbX3d",
        "outputId": "29bb6960-cdfd-4e09-91cc-ab60f1c0248f"
      },
      "outputs": [
        {
          "output_type": "stream",
          "name": "stdout",
          "text": [
            "nan\n",
            "0\n",
            "[-9.22337204e+18]\n"
          ]
        },
        {
          "output_type": "stream",
          "name": "stderr",
          "text": [
            "<ipython-input-34-2a10de0ee61b>:1: RuntimeWarning: invalid value encountered in true_divide\n",
            "  print(np.array(0) / np.array(0))\n",
            "<ipython-input-34-2a10de0ee61b>:2: RuntimeWarning: divide by zero encountered in floor_divide\n",
            "  print(np.array(0) // np.array(0))\n"
          ]
        }
      ],
      "source": [
        "print(np.array(0) / np.array(0))\n",
        "print(np.array(0) // np.array(0))\n",
        "print(np.array([np.nan]).astype(int).astype(float))"
      ]
    },
    {
      "cell_type": "markdown",
      "metadata": {
        "id": "ApmXx6OrbX3e"
      },
      "source": [
        "#### 29. How to round away from zero a float array ? (★☆☆) \n",
        "(**hint**: np.uniform, np.copysign, np.ceil, np.abs)"
      ]
    },
    {
      "cell_type": "code",
      "execution_count": 35,
      "metadata": {
        "colab": {
          "base_uri": "https://localhost:8080/"
        },
        "id": "iyLkeATNbX3e",
        "outputId": "79819d0a-7cd5-49a2-b7e1-8c93692e3ea5"
      },
      "outputs": [
        {
          "output_type": "stream",
          "name": "stdout",
          "text": [
            "[ 4.  2. -7.  9. -3.  1.  9. -3. -4. -1.]\n"
          ]
        }
      ],
      "source": [
        "i = np.random.uniform(-10,+10,10)\n",
        "print(np.copysign(np.ceil(np.abs(i)), i))"
      ]
    },
    {
      "cell_type": "markdown",
      "metadata": {
        "id": "DSDoMCStbX3f"
      },
      "source": [
        "#### 30. How to find common values between two arrays? (★☆☆) \n",
        "(**hint**: np.intersect1d)"
      ]
    },
    {
      "cell_type": "code",
      "execution_count": 36,
      "metadata": {
        "colab": {
          "base_uri": "https://localhost:8080/"
        },
        "id": "hyYD3iYmbX3f",
        "outputId": "b938b816-a7c2-4c5d-83c6-ba120e2fe885"
      },
      "outputs": [
        {
          "output_type": "stream",
          "name": "stdout",
          "text": [
            "[0 1 2 3 5]\n"
          ]
        }
      ],
      "source": [
        "X = np.random.randint(0,10,10)\n",
        "y = np.random.randint(0,10,10)\n",
        "print(np.intersect1d(X,y))"
      ]
    },
    {
      "cell_type": "markdown",
      "metadata": {
        "id": "Ms0T1iEpbX3f"
      },
      "source": [
        "#### 31. How to ignore all numpy warnings (not recommended)? (★☆☆) \n",
        "(**hint**: np.seterr, np.errstate)"
      ]
    },
    {
      "cell_type": "code",
      "execution_count": 41,
      "metadata": {
        "colab": {
          "base_uri": "https://localhost:8080/"
        },
        "id": "2-l9DTZgbX3g",
        "outputId": "d1ee83a3-ac32-42a6-a10f-4434601d9478"
      },
      "outputs": [
        {
          "output_type": "execute_result",
          "data": {
            "text/plain": [
              "{'divide': 'ignore', 'over': 'ignore', 'under': 'ignore', 'invalid': 'ignore'}"
            ]
          },
          "metadata": {},
          "execution_count": 41
        }
      ],
      "source": [
        "np.seterr(all=\"ignore\")\n"
      ]
    },
    {
      "cell_type": "markdown",
      "metadata": {
        "id": "lYjvCthPbX3g"
      },
      "source": [
        "#### 32. Is the following expressions true? (★☆☆) \n",
        "(**hint**: imaginary number)"
      ]
    },
    {
      "cell_type": "markdown",
      "metadata": {
        "id": "yhtUBiPtbX3h"
      },
      "source": [
        "```python\n",
        "np.sqrt(-1) == np.emath.sqrt(-1)\n",
        "```"
      ]
    },
    {
      "cell_type": "code",
      "execution_count": 42,
      "metadata": {
        "colab": {
          "base_uri": "https://localhost:8080/"
        },
        "id": "55JhzUIXbX3h",
        "outputId": "dd3acfb8-bb2f-4235-b968-c98f5eca0142"
      },
      "outputs": [
        {
          "output_type": "execute_result",
          "data": {
            "text/plain": [
              "False"
            ]
          },
          "metadata": {},
          "execution_count": 42
        }
      ],
      "source": [
        "np.sqrt(-1) == np.emath.sqrt(-1)"
      ]
    },
    {
      "cell_type": "markdown",
      "metadata": {
        "id": "CTS4VEw0bX3h"
      },
      "source": [
        "#### 33. How to get the dates of yesterday, today and tomorrow? (★☆☆) \n",
        "(**hint**: np.datetime64, np.timedelta64)"
      ]
    },
    {
      "cell_type": "code",
      "execution_count": 44,
      "metadata": {
        "collapsed": true,
        "id": "J1Dk8If0bX3i"
      },
      "outputs": [],
      "source": [
        "yesterday = np.datetime64('today') - np.timedelta64(1)\n",
        "today     = np.datetime64('today')\n",
        "tomorrow  = np.datetime64('today') + np.timedelta64(1)"
      ]
    },
    {
      "cell_type": "markdown",
      "metadata": {
        "id": "-Ui9gRtSbX3i"
      },
      "source": [
        "#### 34. How to get all the dates corresponding to the month of July 2016? (★★☆) \n",
        "(**hint**: np.arange(dtype=datetime64\\['D'\\]))"
      ]
    },
    {
      "cell_type": "code",
      "execution_count": 45,
      "metadata": {
        "colab": {
          "base_uri": "https://localhost:8080/"
        },
        "id": "Mx2IGmlzbX3i",
        "outputId": "7e2f57da-8d71-43a0-979b-622fad62a12a"
      },
      "outputs": [
        {
          "output_type": "stream",
          "name": "stdout",
          "text": [
            "['2016-07-01' '2016-07-02' '2016-07-03' '2016-07-04' '2016-07-05'\n",
            " '2016-07-06' '2016-07-07' '2016-07-08' '2016-07-09' '2016-07-10'\n",
            " '2016-07-11' '2016-07-12' '2016-07-13' '2016-07-14' '2016-07-15'\n",
            " '2016-07-16' '2016-07-17' '2016-07-18' '2016-07-19' '2016-07-20'\n",
            " '2016-07-21' '2016-07-22' '2016-07-23' '2016-07-24' '2016-07-25'\n",
            " '2016-07-26' '2016-07-27' '2016-07-28' '2016-07-29' '2016-07-30'\n",
            " '2016-07-31']\n"
          ]
        }
      ],
      "source": [
        "dates = np.arange('2016-07', '2016-08', dtype='datetime64[D]')\n",
        "print(dates)"
      ]
    },
    {
      "cell_type": "markdown",
      "metadata": {
        "id": "CK5CMDyXbX3j"
      },
      "source": [
        "#### 35. How to compute ((A+B)\\*(-A/2)) in place (without copy)? (★★☆) \n",
        "(**hint**: np.add(out=), np.negative(out=), np.multiply(out=), np.divide(out=))"
      ]
    },
    {
      "cell_type": "code",
      "execution_count": 46,
      "metadata": {
        "colab": {
          "base_uri": "https://localhost:8080/"
        },
        "id": "IxI0mVS5bX3j",
        "outputId": "ef0da6ac-a3de-40db-83dd-f056d0522a01"
      },
      "outputs": [
        {
          "output_type": "execute_result",
          "data": {
            "text/plain": [
              "array([-1.5, -1.5, -1.5])"
            ]
          },
          "metadata": {},
          "execution_count": 46
        }
      ],
      "source": [
        "A = np.ones(3)*1\n",
        "B = np.ones(3)*2\n",
        "np.add(A,B,out=B)\n",
        "np.divide(A,2,out=A)\n",
        "np.negative(A,out=A)\n",
        "np.multiply(A,B,out=A)"
      ]
    },
    {
      "cell_type": "markdown",
      "metadata": {
        "id": "l73ogd9zbX3j"
      },
      "source": [
        "#### 36. Extract the integer part of a random array using 5 different methods (★★☆) \n",
        "(**hint**: %, np.floor, np.ceil, astype, np.trunc)"
      ]
    },
    {
      "cell_type": "code",
      "execution_count": 47,
      "metadata": {
        "colab": {
          "base_uri": "https://localhost:8080/"
        },
        "id": "CKJbKwwsbX3k",
        "outputId": "beaa22db-8297-4a2d-b89e-2c5288acd534"
      },
      "outputs": [
        {
          "output_type": "stream",
          "name": "stdout",
          "text": [
            "[8. 0. 1. 9. 0. 3. 5. 8. 2. 7.]\n",
            "[8. 0. 1. 9. 0. 3. 5. 8. 2. 7.]\n",
            "[8. 0. 1. 9. 0. 3. 5. 8. 2. 7.]\n",
            "[8 0 1 9 0 3 5 8 2 7]\n",
            "[8. 0. 1. 9. 0. 3. 5. 8. 2. 7.]\n"
          ]
        }
      ],
      "source": [
        "a = np.random.uniform(0,10,10)\n",
        "\n",
        "print(a - a%1)\n",
        "print(a // 1)\n",
        "print(np.floor(a))\n",
        "print(a.astype(int))\n",
        "print(np.trunc(a))"
      ]
    },
    {
      "cell_type": "markdown",
      "metadata": {
        "id": "eECnxDfwbX3k"
      },
      "source": [
        "#### 37. Create a 5x5 matrix with row values ranging from 0 to 4 (★★☆) \n",
        "(**hint**: np.arange)"
      ]
    },
    {
      "cell_type": "code",
      "source": [
        "Z = np.zeros((5,5))\n",
        "Z += np.arange(5)\n",
        "print(Z)"
      ],
      "metadata": {
        "colab": {
          "base_uri": "https://localhost:8080/"
        },
        "id": "iRNRHV1ajRS8",
        "outputId": "7951d40f-4f48-4033-d29e-f555e5c75052"
      },
      "execution_count": 48,
      "outputs": [
        {
          "output_type": "stream",
          "name": "stdout",
          "text": [
            "[[0. 1. 2. 3. 4.]\n",
            " [0. 1. 2. 3. 4.]\n",
            " [0. 1. 2. 3. 4.]\n",
            " [0. 1. 2. 3. 4.]\n",
            " [0. 1. 2. 3. 4.]]\n"
          ]
        }
      ]
    },
    {
      "cell_type": "markdown",
      "metadata": {
        "id": "1h89ggbWbX3n"
      },
      "source": [
        "#### 38. Consider a generator function that generates 10 integers and use it to build an array (★☆☆) \n",
        "(**hint**: np.fromiter)"
      ]
    },
    {
      "cell_type": "code",
      "execution_count": 49,
      "metadata": {
        "colab": {
          "base_uri": "https://localhost:8080/"
        },
        "id": "WnbN-MncbX3o",
        "outputId": "4b790e5b-e7a8-4fdc-b97a-95caa2f90e0d"
      },
      "outputs": [
        {
          "output_type": "stream",
          "name": "stdout",
          "text": [
            "[0. 1. 2. 3. 4. 5. 6. 7. 8. 9.]\n"
          ]
        }
      ],
      "source": [
        "def generate():\n",
        "    for x in range(10):\n",
        "        yield x\n",
        "x = np.fromiter(generate(),dtype=float,count=-1)\n",
        "print(x)"
      ]
    },
    {
      "cell_type": "markdown",
      "metadata": {
        "id": "VTxV6pNybX3o"
      },
      "source": [
        "#### 39. Create a vector of size 10 with values ranging from 0 to 1, both excluded (★★☆) \n",
        "(**hint**: np.linspace)"
      ]
    },
    {
      "cell_type": "code",
      "execution_count": 50,
      "metadata": {
        "colab": {
          "base_uri": "https://localhost:8080/"
        },
        "id": "7X7Mgsu4bX3p",
        "outputId": "a2a1867f-c120-49c3-d301-39e668873c6a"
      },
      "outputs": [
        {
          "output_type": "stream",
          "name": "stdout",
          "text": [
            "[0.09090909 0.18181818 0.27272727 0.36363636 0.45454545 0.54545455\n",
            " 0.63636364 0.72727273 0.81818182 0.90909091]\n"
          ]
        }
      ],
      "source": [
        "y = np.linspace(0,1,11,endpoint=False)[1:]\n",
        "print(y)"
      ]
    },
    {
      "cell_type": "markdown",
      "metadata": {
        "id": "D9dAn-gQbX3p"
      },
      "source": [
        "#### 40. Create a random vector of size 10 and sort it (★★☆) \n",
        "(**hint**: sort)"
      ]
    },
    {
      "cell_type": "code",
      "execution_count": 51,
      "metadata": {
        "colab": {
          "base_uri": "https://localhost:8080/"
        },
        "id": "MuydoLcGbX3q",
        "outputId": "f47561da-72ae-4a42-9cfa-9ffef9f04ab2"
      },
      "outputs": [
        {
          "output_type": "stream",
          "name": "stdout",
          "text": [
            "[0.07026699 0.15109126 0.16919358 0.25813857 0.35035459 0.38270664\n",
            " 0.61707473 0.6358383  0.6480781  0.71650769]\n"
          ]
        }
      ],
      "source": [
        "a = np.random.random(10)\n",
        "a.sort()\n",
        "print(a)"
      ]
    },
    {
      "cell_type": "markdown",
      "metadata": {
        "id": "d4enGNb4bX3q"
      },
      "source": [
        "#### 41. How to sum a small array faster than np.sum? (★★☆) \n",
        "(**hint**: np.add.reduce)"
      ]
    },
    {
      "cell_type": "code",
      "execution_count": 52,
      "metadata": {
        "colab": {
          "base_uri": "https://localhost:8080/"
        },
        "id": "mVJtF0yQbX3q",
        "outputId": "7ced5a70-4b2d-452e-ec98-56db14c77318"
      },
      "outputs": [
        {
          "output_type": "execute_result",
          "data": {
            "text/plain": [
              "45"
            ]
          },
          "metadata": {},
          "execution_count": 52
        }
      ],
      "source": [
        "Z = np.arange(10)\n",
        "np.add.reduce(Z)"
      ]
    },
    {
      "cell_type": "markdown",
      "metadata": {
        "id": "ctVYro_VbX3r"
      },
      "source": [
        "#### 42. Consider two random array A and B, check if they are equal (★★☆) \n",
        "(**hint**: np.allclose, np.array\\_equal)"
      ]
    },
    {
      "cell_type": "code",
      "execution_count": 54,
      "metadata": {
        "colab": {
          "base_uri": "https://localhost:8080/"
        },
        "id": "x081xM8NbX3r",
        "outputId": "47f2a624-1247-426d-9eee-1bdade61b065"
      },
      "outputs": [
        {
          "output_type": "stream",
          "name": "stdout",
          "text": [
            "False\n",
            "False\n"
          ]
        }
      ],
      "source": [
        "A = np.random.randint(0,2,5)\n",
        "B = np.random.randint(0,2,5)\n",
        "\n",
        "\n",
        "equal = np.allclose(A,B)\n",
        "print(equal)\n",
        "\n",
        "equal = np.array_equal(A,B)\n",
        "print(equal)"
      ]
    },
    {
      "cell_type": "markdown",
      "metadata": {
        "id": "JToAmyQ2bX3r"
      },
      "source": [
        "#### 43. Make an array immutable (read-only) (★★☆) \n",
        "(**hint**: flags.writeable)"
      ]
    },
    {
      "cell_type": "code",
      "source": [
        "x = np.zeros(10)\n",
        "x.flags.writeable = False\n",
        "x[0] = 1"
      ],
      "metadata": {
        "colab": {
          "base_uri": "https://localhost:8080/",
          "height": 200
        },
        "id": "6wNfInJ2kd2l",
        "outputId": "6c1c5c14-fca5-40a7-c18a-464548c93b73"
      },
      "execution_count": 57,
      "outputs": [
        {
          "output_type": "error",
          "ename": "ValueError",
          "evalue": "ignored",
          "traceback": [
            "\u001b[0;31m---------------------------------------------------------------------------\u001b[0m",
            "\u001b[0;31mValueError\u001b[0m                                Traceback (most recent call last)",
            "\u001b[0;32m<ipython-input-57-50d3306bb5ff>\u001b[0m in \u001b[0;36m<module>\u001b[0;34m\u001b[0m\n\u001b[1;32m      1\u001b[0m \u001b[0mx\u001b[0m \u001b[0;34m=\u001b[0m \u001b[0mnp\u001b[0m\u001b[0;34m.\u001b[0m\u001b[0mzeros\u001b[0m\u001b[0;34m(\u001b[0m\u001b[0;36m10\u001b[0m\u001b[0;34m)\u001b[0m\u001b[0;34m\u001b[0m\u001b[0;34m\u001b[0m\u001b[0m\n\u001b[1;32m      2\u001b[0m \u001b[0mx\u001b[0m\u001b[0;34m.\u001b[0m\u001b[0mflags\u001b[0m\u001b[0;34m.\u001b[0m\u001b[0mwriteable\u001b[0m \u001b[0;34m=\u001b[0m \u001b[0;32mFalse\u001b[0m\u001b[0;34m\u001b[0m\u001b[0;34m\u001b[0m\u001b[0m\n\u001b[0;32m----> 3\u001b[0;31m \u001b[0mx\u001b[0m\u001b[0;34m[\u001b[0m\u001b[0;36m0\u001b[0m\u001b[0;34m]\u001b[0m \u001b[0;34m=\u001b[0m \u001b[0;36m1\u001b[0m\u001b[0;34m\u001b[0m\u001b[0;34m\u001b[0m\u001b[0m\n\u001b[0m",
            "\u001b[0;31mValueError\u001b[0m: assignment destination is read-only"
          ]
        }
      ]
    },
    {
      "cell_type": "markdown",
      "metadata": {
        "id": "J3gFLMe_bX3s"
      },
      "source": [
        "#### 44. Consider a random 10x2 matrix representing cartesian coordinates, convert them to polar coordinates (★★☆) \n",
        "(**hint**: np.sqrt, np.arctan2)"
      ]
    },
    {
      "cell_type": "code",
      "execution_count": 58,
      "metadata": {
        "colab": {
          "base_uri": "https://localhost:8080/"
        },
        "id": "F1gR1U1TbX3s",
        "outputId": "6a217cf9-c68e-493b-bd10-7d606cb18f5e"
      },
      "outputs": [
        {
          "output_type": "stream",
          "name": "stdout",
          "text": [
            "[0.28486643 0.75358297 0.86663159 0.49552139 0.67408343 0.95505492\n",
            " 0.78552999 0.57361901 1.11841917 0.87459537]\n",
            "[1.21847302 0.59008825 0.86282345 1.09747402 0.88490556 0.69920132\n",
            " 0.64944352 0.40186775 0.88794427 0.59795252]\n"
          ]
        }
      ],
      "source": [
        "a = np.random.random((10,2))\n",
        "X,Y = a[:,0], a[:,1]\n",
        "R = np.sqrt(X**2+Y**2)\n",
        "T = np.arctan2(Y,X)\n",
        "print(R)\n",
        "print(T)"
      ]
    },
    {
      "cell_type": "markdown",
      "metadata": {
        "id": "3Xx4ms4NbX3t"
      },
      "source": [
        "#### 45. Create random vector of size 10 and replace the maximum value by 0 (★★☆) \n",
        "(**hint**: argmax)"
      ]
    },
    {
      "cell_type": "code",
      "source": [
        "Z = np.random.random(10)\n",
        "Z[Z.argmax()] = 0\n",
        "print(Z)"
      ],
      "metadata": {
        "colab": {
          "base_uri": "https://localhost:8080/"
        },
        "id": "m1vx2uvPk-y5",
        "outputId": "64db67f3-e9cb-4537-e68b-6040653b684c"
      },
      "execution_count": 60,
      "outputs": [
        {
          "output_type": "stream",
          "name": "stdout",
          "text": [
            "[0.55571286 0.15623891 0.60624433 0.19388642 0.82321854 0.53417219\n",
            " 0.         0.0755073  0.27233596 0.07275052]\n",
            "[0.53994362 0.67907252 0.79375349 0.35215039 0.         0.3256059\n",
            " 0.65523709 0.90108223 0.42504779 0.49540239]\n"
          ]
        }
      ]
    },
    {
      "cell_type": "markdown",
      "metadata": {
        "id": "0ovP0GpKbX3t"
      },
      "source": [
        "#### 46. Create a structured array with `x` and `y` coordinates covering the \\[0,1\\]x\\[0,1\\] area (★★☆) \n",
        "(**hint**: np.meshgrid)"
      ]
    },
    {
      "cell_type": "code",
      "execution_count": 62,
      "metadata": {
        "colab": {
          "base_uri": "https://localhost:8080/"
        },
        "id": "3zZfrLpAbX3t",
        "outputId": "c557c7b1-a2c2-4b87-e6c2-9c9b28f43235"
      },
      "outputs": [
        {
          "output_type": "stream",
          "name": "stdout",
          "text": [
            "[[(0.        , 0.        ) (0.33333333, 0.        )\n",
            "  (0.66666667, 0.        ) (1.        , 0.        )]\n",
            " [(0.        , 0.33333333) (0.33333333, 0.33333333)\n",
            "  (0.66666667, 0.33333333) (1.        , 0.33333333)]\n",
            " [(0.        , 0.66666667) (0.33333333, 0.66666667)\n",
            "  (0.66666667, 0.66666667) (1.        , 0.66666667)]\n",
            " [(0.        , 1.        ) (0.33333333, 1.        )\n",
            "  (0.66666667, 1.        ) (1.        , 1.        )]]\n"
          ]
        }
      ],
      "source": [
        "a = np.zeros((4,4), [('x',float),('y',float)])\n",
        "a['x'], a['y'] = np.meshgrid(np.linspace(0,1,4),\n",
        "                             np.linspace(0,1,4))\n",
        "print(a)"
      ]
    },
    {
      "cell_type": "markdown",
      "metadata": {
        "id": "WGLRsIQ6bX3u"
      },
      "source": [
        "####  47. Given two arrays, X and Y, construct the Cauchy matrix C (Cij =1/(xi - yj)) \n",
        "(**hint**: np.subtract.outer)"
      ]
    },
    {
      "cell_type": "code",
      "execution_count": 64,
      "metadata": {
        "colab": {
          "base_uri": "https://localhost:8080/"
        },
        "id": "ig2cVYNSbX3u",
        "outputId": "0bbcbdbc-5179-45a0-ea6c-566e66295f81"
      },
      "outputs": [
        {
          "output_type": "stream",
          "name": "stdout",
          "text": [
            "396.0368295558234\n"
          ]
        }
      ],
      "source": [
        "X = np.arange(6)\n",
        "Y = X + 0.5\n",
        "C = 1.0 / np.subtract.outer(X, Y)\n",
        "print(np.linalg.det(C))"
      ]
    },
    {
      "cell_type": "markdown",
      "metadata": {
        "id": "FIostZrtbX3u"
      },
      "source": [
        "#### 48. Print the minimum and maximum representable value for each numpy scalar type (★★☆) \n",
        "(**hint**: np.iinfo, np.finfo, eps)"
      ]
    },
    {
      "cell_type": "code",
      "execution_count": 65,
      "metadata": {
        "colab": {
          "base_uri": "https://localhost:8080/"
        },
        "id": "yplGH8tRbX3u",
        "outputId": "28e353d1-8bf4-4466-eefd-d9e316386979"
      },
      "outputs": [
        {
          "output_type": "stream",
          "name": "stdout",
          "text": [
            "-128\n",
            "127\n",
            "-2147483648\n",
            "2147483647\n",
            "-9223372036854775808\n",
            "9223372036854775807\n",
            "-3.4028235e+38\n",
            "3.4028235e+38\n",
            "1.1920929e-07\n",
            "-1.7976931348623157e+308\n",
            "1.7976931348623157e+308\n",
            "2.220446049250313e-16\n"
          ]
        }
      ],
      "source": [
        "for dtype in [np.int8, np.int32, np.int64]:\n",
        "   print(np.iinfo(dtype).min)\n",
        "   print(np.iinfo(dtype).max)\n",
        "for dtype in [np.float32, np.float64]:\n",
        "   print(np.finfo(dtype).min)\n",
        "   print(np.finfo(dtype).max)\n",
        "   print(np.finfo(dtype).eps)"
      ]
    },
    {
      "cell_type": "markdown",
      "metadata": {
        "id": "SJ0AwJ13bX3v"
      },
      "source": [
        "#### 49. How to print all the values of an array? (★★☆) \n",
        "(**hint**: np.set\\_printoptions)"
      ]
    },
    {
      "cell_type": "code",
      "execution_count": 67,
      "metadata": {
        "colab": {
          "base_uri": "https://localhost:8080/"
        },
        "id": "GKIEMNJTbX3v",
        "outputId": "5c310945-61cc-4d4d-f69e-470fcc3b277a"
      },
      "outputs": [
        {
          "output_type": "stream",
          "name": "stdout",
          "text": [
            "[[0. 0. 0. 0. 0. 0. 0. 0. 0. 0.]\n",
            " [0. 0. 0. 0. 0. 0. 0. 0. 0. 0.]\n",
            " [0. 0. 0. 0. 0. 0. 0. 0. 0. 0.]\n",
            " [0. 0. 0. 0. 0. 0. 0. 0. 0. 0.]\n",
            " [0. 0. 0. 0. 0. 0. 0. 0. 0. 0.]\n",
            " [0. 0. 0. 0. 0. 0. 0. 0. 0. 0.]\n",
            " [0. 0. 0. 0. 0. 0. 0. 0. 0. 0.]\n",
            " [0. 0. 0. 0. 0. 0. 0. 0. 0. 0.]\n",
            " [0. 0. 0. 0. 0. 0. 0. 0. 0. 0.]\n",
            " [0. 0. 0. 0. 0. 0. 0. 0. 0. 0.]]\n"
          ]
        }
      ],
      "source": [
        "np.set_printoptions(threshold=float(\"inf\"))\n",
        "x = np.zeros((10,10))\n",
        "print(x)"
      ]
    },
    {
      "cell_type": "markdown",
      "metadata": {
        "id": "MHV4jDz9bX3v"
      },
      "source": [
        "#### 50. How to find the closest value (to a given scalar) in a vector? (★★☆) \n",
        "(**hint**: argmin)"
      ]
    },
    {
      "cell_type": "code",
      "execution_count": 69,
      "metadata": {
        "colab": {
          "base_uri": "https://localhost:8080/"
        },
        "id": "3P9E3wd6bX3v",
        "outputId": "990d1df3-8da6-4200-e577-59a03b5a1393"
      },
      "outputs": [
        {
          "output_type": "stream",
          "name": "stdout",
          "text": [
            "21\n"
          ]
        }
      ],
      "source": [
        "Z = np.arange(50)\n",
        "v = np.random.uniform(0,50)\n",
        "index = (np.abs(Z-v)).argmin()\n",
        "print(Z[index])"
      ]
    },
    {
      "cell_type": "markdown",
      "metadata": {
        "id": "3NkoAYu-bX3w"
      },
      "source": [
        "#### 51. Create a structured array representing a position (x,y) and a color (r,g,b) (★★☆) \n",
        "(**hint**: dtype)"
      ]
    },
    {
      "cell_type": "code",
      "execution_count": 3,
      "metadata": {
        "colab": {
          "base_uri": "https://localhost:8080/"
        },
        "id": "DdvlzaqObX3w",
        "outputId": "f98ad857-0e1a-4914-9157-45e54bf141ce"
      },
      "outputs": [
        {
          "output_type": "stream",
          "name": "stdout",
          "text": [
            "[((0., 0.), (0., 0., 0.)) ((0., 0.), (0., 0., 0.))\n",
            " ((0., 0.), (0., 0., 0.)) ((0., 0.), (0., 0., 0.))\n",
            " ((0., 0.), (0., 0., 0.)) ((0., 0.), (0., 0., 0.))\n",
            " ((0., 0.), (0., 0., 0.)) ((0., 0.), (0., 0., 0.))\n",
            " ((0., 0.), (0., 0., 0.)) ((0., 0.), (0., 0., 0.))]\n"
          ]
        },
        {
          "output_type": "stream",
          "name": "stderr",
          "text": [
            "<ipython-input-3-6f1aa4d7a2ff>:1: FutureWarning: Passing (type, 1) or '1type' as a synonym of type is deprecated; in a future version of numpy, it will be understood as (type, (1,)) / '(1,)type'.\n",
            "  Z = np.zeros(10, [ ('position', [ ('x', float, 1),\n"
          ]
        }
      ],
      "source": [
        "Z = np.zeros(10, [ ('position', [ ('x', float, 1),\n",
        "                                  ('y', float, 1)]),\n",
        "                   ('color',    [ ('r', float, 1),\n",
        "                                  ('g', float, 1),\n",
        "                                  ('b', float, 1)])])\n",
        "print(Z)"
      ]
    },
    {
      "cell_type": "markdown",
      "metadata": {
        "id": "a4Nk8sB4bX3w"
      },
      "source": [
        "#### 52. Consider a random vector with shape (100,2) representing coordinates, find point by point distances (★★☆) \n",
        "(**hint**: np.atleast\\_2d, T, np.sqrt)"
      ]
    },
    {
      "cell_type": "code",
      "execution_count": 4,
      "metadata": {
        "colab": {
          "base_uri": "https://localhost:8080/"
        },
        "id": "cFt3tVQhbX3x",
        "outputId": "3785623a-7a5d-4325-cbf3-09770a2184b6"
      },
      "outputs": [
        {
          "output_type": "stream",
          "name": "stdout",
          "text": [
            "[[0.         0.65533896 0.38897334 0.51588066 0.31548788 0.43042996\n",
            "  0.61364209 0.42525158 0.50005883 0.6008921 ]\n",
            " [0.65533896 0.         0.93203271 0.38641802 0.7048836  0.56168466\n",
            "  0.74652246 0.29019203 0.16360217 0.74515046]\n",
            " [0.38897334 0.93203271 0.         0.89203061 0.24427731 0.81923155\n",
            "  0.99291772 0.77372441 0.80562128 0.97949172]\n",
            " [0.51588066 0.38641802 0.89203061 0.         0.732434   0.19806834\n",
            "  0.36013049 0.16428476 0.27148522 0.35903108]\n",
            " [0.31548788 0.7048836  0.24427731 0.732434   0.         0.70932523\n",
            "  0.91317066 0.59078764 0.59451202 0.90140864]\n",
            " [0.43042996 0.56168466 0.81923155 0.19806834 0.70932523 0.\n",
            "  0.2220462  0.28342945 0.41845414 0.21419645]\n",
            " [0.61364209 0.74652246 0.99291772 0.36013049 0.91317066 0.2220462\n",
            "  0.         0.49106153 0.62058271 0.01440027]\n",
            " [0.42525158 0.29019203 0.77372441 0.16428476 0.59078764 0.28342945\n",
            "  0.49106153 0.         0.13585545 0.48654631]\n",
            " [0.50005883 0.16360217 0.80562128 0.27148522 0.59451202 0.41845414\n",
            "  0.62058271 0.13585545 0.         0.61705724]\n",
            " [0.6008921  0.74515046 0.97949172 0.35903108 0.90140864 0.21419645\n",
            "  0.01440027 0.48654631 0.61705724 0.        ]]\n"
          ]
        }
      ],
      "source": [
        "a = np.random.random((10,2))\n",
        "X,Y = np.atleast_2d(a[:,0], a[:,1])\n",
        "D = np.sqrt( (X-X.T)**2 + (Y-Y.T)**2)\n",
        "print(D)"
      ]
    },
    {
      "cell_type": "markdown",
      "metadata": {
        "id": "pDCXH8smbX3x"
      },
      "source": [
        "#### 53. How to convert a float (32 bits) array into an integer (32 bits) in place? \n",
        "(**hint**: astype(copy=False))"
      ]
    },
    {
      "cell_type": "code",
      "execution_count": 5,
      "metadata": {
        "colab": {
          "base_uri": "https://localhost:8080/"
        },
        "id": "MmLKFJSHbX3x",
        "outputId": "9dcc468b-6e8d-499f-b551-ac45f3776685"
      },
      "outputs": [
        {
          "output_type": "stream",
          "name": "stdout",
          "text": [
            "[29 15 13 86 67 25 38 14 73 32]\n"
          ]
        }
      ],
      "source": [
        "Z = (np.random.rand(10)*100).astype(np.float32)\n",
        "Y = Z.view(np.int32)\n",
        "Y[:] = Z\n",
        "print(Y)"
      ]
    },
    {
      "cell_type": "markdown",
      "metadata": {
        "id": "gd8eXcWsbX3x"
      },
      "source": [
        "#### 54. How to read the following file? (★★☆) \n",
        "(**hint**: np.genfromtxt)"
      ]
    },
    {
      "cell_type": "markdown",
      "metadata": {
        "id": "8EzxI-aHbX3y"
      },
      "source": [
        "```\n",
        "1, 2, 3, 4, 5\n",
        "6,  ,  , 7, 8\n",
        " ,  , 9,10,11\n",
        "```"
      ]
    },
    {
      "cell_type": "code",
      "source": [
        "from io import StringIO\n",
        "s = StringIO('''1, 2, 3, 4, 5\n",
        "                6,  ,  , 7, 8\n",
        "                 ,  , 9,10,11\n",
        "''')\n",
        "Z = np.genfromtxt(s, delimiter=\",\", dtype=np.int)\n",
        "print(Z)"
      ],
      "metadata": {
        "colab": {
          "base_uri": "https://localhost:8080/"
        },
        "id": "oa6qyUl602mj",
        "outputId": "6fd21ea0-2e71-411f-b388-d93d17d3bb16"
      },
      "execution_count": 20,
      "outputs": [
        {
          "output_type": "stream",
          "name": "stdout",
          "text": [
            "[[ 1  2  3  4  5]\n",
            " [ 6 -1 -1  7  8]\n",
            " [-1 -1  9 10 11]]\n"
          ]
        },
        {
          "output_type": "stream",
          "name": "stderr",
          "text": [
            "<ipython-input-20-b46e6554b0bd>:6: DeprecationWarning: `np.int` is a deprecated alias for the builtin `int`. To silence this warning, use `int` by itself. Doing this will not modify any behavior and is safe. When replacing `np.int`, you may wish to use e.g. `np.int64` or `np.int32` to specify the precision. If you wish to review your current use, check the release note link for additional information.\n",
            "Deprecated in NumPy 1.20; for more details and guidance: https://numpy.org/devdocs/release/1.20.0-notes.html#deprecations\n",
            "  Z = np.genfromtxt(s, delimiter=\",\", dtype=np.int)\n"
          ]
        }
      ]
    },
    {
      "cell_type": "markdown",
      "metadata": {
        "id": "NOfDyPEpbX3y"
      },
      "source": [
        "#### 55. What is the equivalent of enumerate for numpy arrays? (★★☆) \n",
        "(**hint**: np.ndenumerate, np.ndindex)"
      ]
    },
    {
      "cell_type": "code",
      "execution_count": 21,
      "metadata": {
        "colab": {
          "base_uri": "https://localhost:8080/"
        },
        "id": "IwW3OiH9bX3z",
        "outputId": "48314baf-6b74-4d10-ec36-3615ea10616e"
      },
      "outputs": [
        {
          "output_type": "stream",
          "name": "stdout",
          "text": [
            "(0, 0) 0\n",
            "(0, 1) 1\n",
            "(0, 2) 2\n",
            "(1, 0) 3\n",
            "(1, 1) 4\n",
            "(1, 2) 5\n",
            "(2, 0) 6\n",
            "(2, 1) 7\n",
            "(2, 2) 8\n",
            "(0, 0) 0\n",
            "(0, 1) 1\n",
            "(0, 2) 2\n",
            "(1, 0) 3\n",
            "(1, 1) 4\n",
            "(1, 2) 5\n",
            "(2, 0) 6\n",
            "(2, 1) 7\n",
            "(2, 2) 8\n"
          ]
        }
      ],
      "source": [
        "Z = np.arange(9).reshape(3,3)\n",
        "for index, value in np.ndenumerate(Z):\n",
        "    print(index, value)\n",
        "for index in np.ndindex(Z.shape):\n",
        "    print(index, Z[index])"
      ]
    },
    {
      "cell_type": "markdown",
      "metadata": {
        "id": "AVLa0BFpbX3z"
      },
      "source": [
        "#### 56. Generate a generic 2D Gaussian-like array (★★☆) \n",
        "(**hint**: np.meshgrid, np.exp)"
      ]
    },
    {
      "cell_type": "code",
      "execution_count": 25,
      "metadata": {
        "colab": {
          "base_uri": "https://localhost:8080/"
        },
        "id": "2r_4T2j0bX3z",
        "outputId": "e4c17894-b33c-4f19-883a-c83700d28bd9"
      },
      "outputs": [
        {
          "output_type": "stream",
          "name": "stdout",
          "text": [
            "[[0.36787944 0.44822088 0.51979489 0.57375342 0.60279818 0.60279818\n",
            "  0.57375342 0.51979489 0.44822088 0.36787944]\n",
            " [0.44822088 0.54610814 0.63331324 0.69905581 0.73444367 0.73444367\n",
            "  0.69905581 0.63331324 0.54610814 0.44822088]\n",
            " [0.51979489 0.63331324 0.73444367 0.81068432 0.85172308 0.85172308\n",
            "  0.81068432 0.73444367 0.63331324 0.51979489]\n",
            " [0.57375342 0.69905581 0.81068432 0.89483932 0.9401382  0.9401382\n",
            "  0.89483932 0.81068432 0.69905581 0.57375342]\n",
            " [0.60279818 0.73444367 0.85172308 0.9401382  0.98773022 0.98773022\n",
            "  0.9401382  0.85172308 0.73444367 0.60279818]\n",
            " [0.60279818 0.73444367 0.85172308 0.9401382  0.98773022 0.98773022\n",
            "  0.9401382  0.85172308 0.73444367 0.60279818]\n",
            " [0.57375342 0.69905581 0.81068432 0.89483932 0.9401382  0.9401382\n",
            "  0.89483932 0.81068432 0.69905581 0.57375342]\n",
            " [0.51979489 0.63331324 0.73444367 0.81068432 0.85172308 0.85172308\n",
            "  0.81068432 0.73444367 0.63331324 0.51979489]\n",
            " [0.44822088 0.54610814 0.63331324 0.69905581 0.73444367 0.73444367\n",
            "  0.69905581 0.63331324 0.54610814 0.44822088]\n",
            " [0.36787944 0.44822088 0.51979489 0.57375342 0.60279818 0.60279818\n",
            "  0.57375342 0.51979489 0.44822088 0.36787944]]\n"
          ]
        }
      ],
      "source": [
        "X, Y = np.meshgrid(np.linspace(-1,1,10), np.linspace(-1,1,10))\n",
        "A = np.sqrt(X*X+Y*Y)\n",
        "sigma, mu = 1.0, 0.0\n",
        "G = np.exp(-( (A-mu)**2 / ( 2.0 * sigma**2 ) ) )\n",
        "print(G)"
      ]
    },
    {
      "cell_type": "markdown",
      "metadata": {
        "id": "2Z07ToSYbX3z"
      },
      "source": [
        "#### 57. How to randomly place p elements in a 2D array? (★★☆) \n",
        "(**hint**: np.put, np.random.choice)"
      ]
    },
    {
      "cell_type": "code",
      "execution_count": 26,
      "metadata": {
        "colab": {
          "base_uri": "https://localhost:8080/"
        },
        "id": "NbYPOodtbX30",
        "outputId": "e71df3c0-254a-442d-9a89-19a75e6d8678"
      },
      "outputs": [
        {
          "output_type": "stream",
          "name": "stdout",
          "text": [
            "[[1. 0. 0. 0. 0. 0. 0. 0. 0. 0.]\n",
            " [0. 0. 0. 0. 0. 0. 0. 0. 0. 0.]\n",
            " [1. 0. 0. 0. 0. 0. 0. 0. 0. 0.]\n",
            " [0. 0. 0. 0. 0. 0. 0. 0. 0. 0.]\n",
            " [0. 0. 0. 0. 1. 0. 0. 0. 0. 0.]\n",
            " [0. 0. 0. 0. 0. 0. 0. 0. 0. 0.]\n",
            " [0. 0. 0. 0. 0. 0. 0. 0. 0. 0.]\n",
            " [0. 0. 0. 0. 0. 0. 0. 0. 0. 0.]\n",
            " [0. 0. 0. 0. 0. 0. 0. 0. 0. 0.]\n",
            " [0. 0. 0. 0. 0. 0. 0. 0. 0. 0.]]\n"
          ]
        }
      ],
      "source": [
        "n = 10\n",
        "p = 3\n",
        "Z = np.zeros((n,n))\n",
        "np.put(Z, np.random.choice(range(n*n), p, replace=False),1)\n",
        "print (Z)"
      ]
    },
    {
      "cell_type": "markdown",
      "metadata": {
        "id": "mYRGXO8TbX30"
      },
      "source": [
        "#### 58. Subtract the mean of each row of a matrix (★★☆) \n",
        "(**hint**: mean(axis=,keepdims=))"
      ]
    },
    {
      "cell_type": "code",
      "execution_count": 27,
      "metadata": {
        "colab": {
          "base_uri": "https://localhost:8080/"
        },
        "id": "qMtsGZwubX30",
        "outputId": "7122e416-bb46-4504-b8e5-70dfef6b782a"
      },
      "outputs": [
        {
          "output_type": "stream",
          "name": "stdout",
          "text": [
            "[[ 0.372547   -0.11713806 -0.19960557  0.52569789  0.18923261 -0.39416263\n",
            "   0.30720292 -0.26361594 -0.21097797 -0.20918027]\n",
            " [-0.15813393  0.24309324  0.04242653 -0.10084709  0.0875014   0.01208296\n",
            "   0.09148531 -0.08140996 -0.28850228  0.15230381]\n",
            " [ 0.2704759  -0.21019095  0.12671314 -0.25216175 -0.24096225  0.13363152\n",
            "   0.67802067 -0.21630986 -0.19463074 -0.09458568]\n",
            " [ 0.30359643 -0.16404369  0.37859628 -0.47572819  0.20266568 -0.24267925\n",
            "   0.35125785  0.00324674  0.12267518 -0.47958701]\n",
            " [-0.40045864  0.05477456  0.1534309  -0.38115339 -0.24340592  0.27729411\n",
            "   0.15658688  0.22355984  0.41195098 -0.25257931]]\n"
          ]
        }
      ],
      "source": [
        "X = np.random.rand(5, 10)\n",
        "\n",
        "Y = X - X.mean(axis=1, keepdims=True)\n",
        "\n",
        "print(Y)"
      ]
    },
    {
      "cell_type": "markdown",
      "metadata": {
        "id": "e9vu5K_kbX30"
      },
      "source": [
        "#### 59. How to sort an array by the nth column? (★★☆) \n",
        "(**hint**: argsort)"
      ]
    },
    {
      "cell_type": "code",
      "execution_count": 28,
      "metadata": {
        "colab": {
          "base_uri": "https://localhost:8080/"
        },
        "id": "DeEwO9nzbX31",
        "outputId": "c9ae8403-4eef-4210-c439-e261ab00928d"
      },
      "outputs": [
        {
          "output_type": "stream",
          "name": "stdout",
          "text": [
            "[[8 6 4]\n",
            " [9 4 2]\n",
            " [7 5 5]]\n",
            "[[9 4 2]\n",
            " [7 5 5]\n",
            " [8 6 4]]\n"
          ]
        }
      ],
      "source": [
        "A = np.random.randint(0,10,(3,3))\n",
        "print(A)\n",
        "print(A[A[:,1].argsort()])"
      ]
    },
    {
      "cell_type": "markdown",
      "metadata": {
        "id": "ww0HdyjmbX32"
      },
      "source": [
        "#### 60. How to tell if a given 2D array has null columns? (★★☆) \n",
        "(**hint**: any, ~)"
      ]
    },
    {
      "cell_type": "code",
      "execution_count": 29,
      "metadata": {
        "colab": {
          "base_uri": "https://localhost:8080/"
        },
        "id": "NRFmCAZ5bX32",
        "outputId": "60bbb07d-6ddd-473d-cd99-79400bab22a6"
      },
      "outputs": [
        {
          "output_type": "stream",
          "name": "stdout",
          "text": [
            "False\n"
          ]
        }
      ],
      "source": [
        "Z = np.random.randint(0,3,(3,10))\n",
        "print((~Z.any(axis=0)).any())"
      ]
    },
    {
      "cell_type": "markdown",
      "metadata": {
        "id": "Fs9UPZk6bX32"
      },
      "source": [
        "#### 61. Find the nearest value from a given value in an array (★★☆) \n",
        "(**hint**: np.abs, argmin, flat)"
      ]
    },
    {
      "cell_type": "code",
      "execution_count": 30,
      "metadata": {
        "colab": {
          "base_uri": "https://localhost:8080/"
        },
        "id": "Bt1yVDxUbX33",
        "outputId": "bb3cd9a3-eb31-4fb6-9551-fd47b99e7dd2"
      },
      "outputs": [
        {
          "output_type": "stream",
          "name": "stdout",
          "text": [
            "0.5691689061031364\n"
          ]
        }
      ],
      "source": [
        "Z = np.random.uniform(0,1,10)\n",
        "z = 0.5\n",
        "m = Z.flat[np.abs(Z - z).argmin()]\n",
        "print(m)"
      ]
    },
    {
      "cell_type": "markdown",
      "metadata": {
        "id": "otWfL_BlbX33"
      },
      "source": [
        "#### 62. Considering two arrays with shape (1,3) and (3,1), how to compute their sum using an iterator? (★★☆) \n",
        "(**hint**: np.nditer)"
      ]
    },
    {
      "cell_type": "code",
      "execution_count": 31,
      "metadata": {
        "colab": {
          "base_uri": "https://localhost:8080/"
        },
        "id": "tA9-aN99bX33",
        "outputId": "a58b0f53-8f5f-4392-c363-53fd1e884959"
      },
      "outputs": [
        {
          "output_type": "stream",
          "name": "stdout",
          "text": [
            "[[0 1 2]\n",
            " [1 2 3]\n",
            " [2 3 4]]\n"
          ]
        }
      ],
      "source": [
        "A = np.arange(3).reshape(3,1)\n",
        "B = np.arange(3).reshape(1,3)\n",
        "it = np.nditer([A,B,None])\n",
        "for x,y,z in it: z[...] = x + y\n",
        "print(it.operands[2])"
      ]
    },
    {
      "cell_type": "markdown",
      "metadata": {
        "id": "dUQASrCXbX34"
      },
      "source": [
        "#### 63. Create an array class that has a name attribute (★★☆) \n",
        "(**hint**: class method)"
      ]
    },
    {
      "cell_type": "code",
      "execution_count": 32,
      "metadata": {
        "colab": {
          "base_uri": "https://localhost:8080/"
        },
        "id": "elpy5Z_kbX34",
        "outputId": "a2684dbd-4a22-4873-c3f5-e238f338d2c2"
      },
      "outputs": [
        {
          "output_type": "stream",
          "name": "stdout",
          "text": [
            "range_10\n"
          ]
        }
      ],
      "source": [
        "class NamedArray(np.ndarray):\n",
        "    def __new__(cls, array, name=\"no name\"):\n",
        "        obj = np.asarray(array).view(cls)\n",
        "        obj.name = name\n",
        "        return obj\n",
        "    def __array_finalize__(self, obj):\n",
        "        if obj is None: return\n",
        "        self.name = getattr(obj, 'name', \"no name\")\n",
        "\n",
        "Z = NamedArray(np.arange(10), \"range_10\")\n",
        "print (Z.name)"
      ]
    },
    {
      "cell_type": "markdown",
      "metadata": {
        "id": "kQo-Tzy3bX35"
      },
      "source": [
        "#### 64. Consider a given vector, how to add 1 to each element indexed by a second vector (be careful with repeated indices)? (★★★) \n",
        "(**hint**: np.bincount | np.add.at)"
      ]
    },
    {
      "cell_type": "code",
      "execution_count": 33,
      "metadata": {
        "colab": {
          "base_uri": "https://localhost:8080/"
        },
        "id": "R6zgyJ5mbX35",
        "outputId": "e77d3dff-d244-4975-bc6f-037f509a7126"
      },
      "outputs": [
        {
          "output_type": "stream",
          "name": "stdout",
          "text": [
            "[3. 1. 2. 1. 4. 3. 3. 4. 4. 5.]\n"
          ]
        }
      ],
      "source": [
        "a = np.ones(10)\n",
        "I = np.random.randint(0,len(a),20)\n",
        "a += np.bincount(I, minlength=len(a))\n",
        "print(a)"
      ]
    },
    {
      "cell_type": "markdown",
      "metadata": {
        "id": "03joqR63bX36"
      },
      "source": [
        "#### 65. How to accumulate elements of a vector (X) to an array (F) based on an index list (I)? (★★★) \n",
        "(**hint**: np.bincount)"
      ]
    },
    {
      "cell_type": "code",
      "execution_count": 34,
      "metadata": {
        "colab": {
          "base_uri": "https://localhost:8080/"
        },
        "id": "0_VmOnI-bX36",
        "outputId": "f1470ecc-878b-4606-e900-3fab062ddb7a"
      },
      "outputs": [
        {
          "output_type": "stream",
          "name": "stdout",
          "text": [
            "[0. 7. 0. 6. 5. 0. 0. 0. 0. 3.]\n"
          ]
        }
      ],
      "source": [
        "X = [1,2,3,4,5,6]\n",
        "I = [1,3,9,3,4,1]\n",
        "F = np.bincount(I,X)\n",
        "print(F)"
      ]
    },
    {
      "cell_type": "markdown",
      "metadata": {
        "id": "6ipDX49ZbX36"
      },
      "source": [
        "#### 66. Considering a (w,h,3) image of (dtype=ubyte), compute the number of unique colors (★★★) \n",
        "(**hint**: np.unique)"
      ]
    },
    {
      "cell_type": "code",
      "execution_count": 35,
      "metadata": {
        "colab": {
          "base_uri": "https://localhost:8080/"
        },
        "id": "L3uP0ocCbX37",
        "outputId": "5b8eda90-0895-4845-b5fd-e5b2a1716211"
      },
      "outputs": [
        {
          "output_type": "stream",
          "name": "stdout",
          "text": [
            "64\n"
          ]
        }
      ],
      "source": [
        "w, h = 256, 256\n",
        "I = np.random.randint(0, 4, (h, w, 3)).astype(np.ubyte)\n",
        "colors = np.unique(I.reshape(-1, 3), axis=0)\n",
        "n = len(colors)\n",
        "print(n)"
      ]
    },
    {
      "cell_type": "markdown",
      "metadata": {
        "id": "Blmda09-bX37"
      },
      "source": [
        "#### 67. Considering a four dimensions array, how to get sum over the last two axis at once? (★★★) \n",
        "(**hint**: sum(axis=(-2,-1)))"
      ]
    },
    {
      "cell_type": "code",
      "execution_count": 36,
      "metadata": {
        "colab": {
          "base_uri": "https://localhost:8080/"
        },
        "id": "lUU10vn9bX37",
        "outputId": "0885155c-2fc4-46a1-e98c-b00023cc27a9"
      },
      "outputs": [
        {
          "output_type": "stream",
          "name": "stdout",
          "text": [
            "[[61 46 48 52]\n",
            " [51 50 61 48]\n",
            " [63 58 57 65]]\n"
          ]
        }
      ],
      "source": [
        "A = np.random.randint(0,10,(3,4,3,4))\n",
        "# by passing a tuple of axes \n",
        "sum = A.sum(axis=(-2,-1))\n",
        "print(sum)"
      ]
    },
    {
      "cell_type": "markdown",
      "metadata": {
        "id": "jXXUJnhebX37"
      },
      "source": [
        "#### 68. Considering a one-dimensional vector D, how to compute means of subsets of D using a vector S of same size describing subset  indices? (★★★) \n",
        "(**hint**: np.bincount)"
      ]
    },
    {
      "cell_type": "code",
      "execution_count": 37,
      "metadata": {
        "colab": {
          "base_uri": "https://localhost:8080/"
        },
        "id": "1KdDhua4bX38",
        "outputId": "bc877e68-bd06-420d-c154-83e82dae2f74"
      },
      "outputs": [
        {
          "output_type": "stream",
          "name": "stdout",
          "text": [
            "[0.59310143 0.53085928 0.39917838 0.48606659 0.58850829 0.44159128\n",
            " 0.48539852 0.47678768 0.56585732 0.45066276]\n"
          ]
        }
      ],
      "source": [
        "D = np.random.uniform(0,1,100)\n",
        "S = np.random.randint(0,10,100)\n",
        "D_sums = np.bincount(S, weights=D)\n",
        "D_counts = np.bincount(S)\n",
        "D_means = D_sums / D_counts\n",
        "print(D_means)"
      ]
    },
    {
      "cell_type": "markdown",
      "metadata": {
        "id": "V39OljdmbX38"
      },
      "source": [
        "#### 69. How to get the diagonal of a dot product? (★★★) \n",
        "(**hint**: np.diag)"
      ]
    },
    {
      "cell_type": "code",
      "execution_count": 38,
      "metadata": {
        "colab": {
          "base_uri": "https://localhost:8080/"
        },
        "id": "OhLTO16ybX38",
        "outputId": "b7d6d80d-ce01-42da-8cd5-6bf8bb8cab75"
      },
      "outputs": [
        {
          "output_type": "execute_result",
          "data": {
            "text/plain": [
              "array([1.41897036, 1.96456909, 0.72558545, 1.49934195, 1.2247124 ])"
            ]
          },
          "metadata": {},
          "execution_count": 38
        }
      ],
      "source": [
        "A = np.random.uniform(0,1,(5,5))\n",
        "B = np.random.uniform(0,1,(5,5))\n",
        "np.diag(np.dot(A, B))"
      ]
    },
    {
      "cell_type": "markdown",
      "metadata": {
        "id": "ri2m9lBJbX38"
      },
      "source": [
        "#### 70. Consider the vector \\[1, 2, 3, 4, 5\\], how to build a new vector with 3 consecutive zeros interleaved between each value? (★★★) \n",
        "(**hint**: array\\[::4\\])"
      ]
    },
    {
      "cell_type": "code",
      "execution_count": 39,
      "metadata": {
        "colab": {
          "base_uri": "https://localhost:8080/"
        },
        "id": "6NZocoNobX39",
        "outputId": "94041ac8-6445-40f6-e565-ce23c8244e3e"
      },
      "outputs": [
        {
          "output_type": "stream",
          "name": "stdout",
          "text": [
            "[1. 0. 0. 0. 2. 0. 0. 0. 3. 0. 0. 0. 4. 0. 0. 0. 5.]\n"
          ]
        }
      ],
      "source": [
        "Z = np.array([1,2,3,4,5])\n",
        "nz = 3\n",
        "Z0 = np.zeros(len(Z) + (len(Z)-1)*(nz))\n",
        "Z0[::nz+1] = Z\n",
        "print(Z0)"
      ]
    },
    {
      "cell_type": "markdown",
      "metadata": {
        "id": "Vnd4MWVDbX39"
      },
      "source": [
        "#### 71. Consider an array of dimension (5,5,3), how to mulitply it by an array with dimensions (5,5)? (★★★) \n",
        "(**hint**: array\\[:, :, None\\])"
      ]
    },
    {
      "cell_type": "code",
      "execution_count": 40,
      "metadata": {
        "collapsed": true,
        "colab": {
          "base_uri": "https://localhost:8080/"
        },
        "id": "lWApBzv0bX39",
        "outputId": "8481098a-326f-4694-fd6c-bfb32e7a3b1e"
      },
      "outputs": [
        {
          "output_type": "stream",
          "name": "stdout",
          "text": [
            "[[[2. 2. 2.]\n",
            "  [2. 2. 2.]\n",
            "  [2. 2. 2.]\n",
            "  [2. 2. 2.]\n",
            "  [2. 2. 2.]]\n",
            "\n",
            " [[2. 2. 2.]\n",
            "  [2. 2. 2.]\n",
            "  [2. 2. 2.]\n",
            "  [2. 2. 2.]\n",
            "  [2. 2. 2.]]\n",
            "\n",
            " [[2. 2. 2.]\n",
            "  [2. 2. 2.]\n",
            "  [2. 2. 2.]\n",
            "  [2. 2. 2.]\n",
            "  [2. 2. 2.]]\n",
            "\n",
            " [[2. 2. 2.]\n",
            "  [2. 2. 2.]\n",
            "  [2. 2. 2.]\n",
            "  [2. 2. 2.]\n",
            "  [2. 2. 2.]]\n",
            "\n",
            " [[2. 2. 2.]\n",
            "  [2. 2. 2.]\n",
            "  [2. 2. 2.]\n",
            "  [2. 2. 2.]\n",
            "  [2. 2. 2.]]]\n"
          ]
        }
      ],
      "source": [
        "A = np.ones((5,5,3))\n",
        "B = 2*np.ones((5,5))\n",
        "print(A * B[:,:,None])"
      ]
    },
    {
      "cell_type": "markdown",
      "metadata": {
        "id": "dn5Zn2XTbX3-"
      },
      "source": [
        "#### 72. How to swap two rows of an array? (★★★) \n",
        "(**hint**: array\\[\\[\\]\\] = array\\[\\[\\]\\])"
      ]
    },
    {
      "cell_type": "code",
      "execution_count": 41,
      "metadata": {
        "colab": {
          "base_uri": "https://localhost:8080/"
        },
        "id": "_tj5w95BbX3-",
        "outputId": "d5663ab3-2e23-4e01-f164-9bf167f1fabe"
      },
      "outputs": [
        {
          "output_type": "stream",
          "name": "stdout",
          "text": [
            "[[ 5  6  7  8  9]\n",
            " [ 0  1  2  3  4]\n",
            " [10 11 12 13 14]\n",
            " [15 16 17 18 19]\n",
            " [20 21 22 23 24]]\n"
          ]
        }
      ],
      "source": [
        "A = np.arange(25).reshape(5,5)\n",
        "A[[0,1]] = A[[1,0]]\n",
        "print(A)"
      ]
    },
    {
      "cell_type": "markdown",
      "metadata": {
        "id": "EtfhojsmbX3-"
      },
      "source": [
        "#### 73. Consider a set of 10 triplets describing 10 triangles (with shared vertices), find the set of unique line segments composing all the  triangles (★★★) \n",
        "(**hint**: repeat, np.roll, np.sort, view, np.unique)"
      ]
    },
    {
      "cell_type": "code",
      "execution_count": 42,
      "metadata": {
        "colab": {
          "base_uri": "https://localhost:8080/"
        },
        "id": "tOvEgbpcbX3_",
        "outputId": "364ec0a2-d1c8-41e4-e2f8-ab4824e71289"
      },
      "outputs": [
        {
          "output_type": "stream",
          "name": "stdout",
          "text": [
            "[( 5, 17) ( 5, 58) ( 8, 18) ( 8, 35) (12, 16) (12, 48) (16, 34) (16, 42)\n",
            " (16, 48) (17, 58) (18, 35) (29, 37) (29, 43) (29, 61) (29, 92) (30, 50)\n",
            " (30, 72) (34, 42) (37, 43) (38, 46) (38, 99) (46, 57) (46, 60) (46, 99)\n",
            " (50, 72) (51, 65) (51, 96) (57, 60) (61, 92) (65, 96)]\n"
          ]
        }
      ],
      "source": [
        "faces = np.random.randint(0,100,(10,3))\n",
        "F = np.roll(faces.repeat(2,axis=1),-1,axis=1)\n",
        "F = F.reshape(len(F)*3,2)\n",
        "F = np.sort(F,axis=1)\n",
        "G = F.view( dtype=[('p0',F.dtype),('p1',F.dtype)] )\n",
        "G = np.unique(G)\n",
        "print(G)"
      ]
    },
    {
      "cell_type": "markdown",
      "metadata": {
        "id": "BpHvZ2PAbX3_"
      },
      "source": [
        "#### 74. Given an array C that is a bincount, how to produce an array A such that np.bincount(A) == C? (★★★) \n",
        "(**hint**: np.repeat)"
      ]
    },
    {
      "cell_type": "code",
      "execution_count": 43,
      "metadata": {
        "colab": {
          "base_uri": "https://localhost:8080/"
        },
        "id": "pexjJdtKbX3_",
        "outputId": "988f207a-996f-40fe-843d-d0b6d6ea0ff9"
      },
      "outputs": [
        {
          "output_type": "stream",
          "name": "stdout",
          "text": [
            "[1 1 2 3 4 4 6]\n"
          ]
        }
      ],
      "source": [
        "C = np.bincount([1,1,2,3,4,4,6])\n",
        "A = np.repeat(np.arange(len(C)), C)\n",
        "print(A)"
      ]
    },
    {
      "cell_type": "markdown",
      "metadata": {
        "id": "Uo_B_gnYbX4A"
      },
      "source": [
        "#### 75. How to compute averages using a sliding window over an array? (★★★) \n",
        "(**hint**: np.cumsum)"
      ]
    },
    {
      "cell_type": "code",
      "execution_count": 48,
      "metadata": {
        "colab": {
          "base_uri": "https://localhost:8080/"
        },
        "id": "qSFN1KIRbX4A",
        "outputId": "ad302ee6-b72c-4e66-a78a-3a314e244e33"
      },
      "outputs": [
        {
          "output_type": "stream",
          "name": "stdout",
          "text": [
            "[ 1.  2.  3.  4.  5.  6.  7.  8.  9. 10. 11. 12. 13. 14. 15. 16. 17. 18.]\n"
          ]
        }
      ],
      "source": [
        "from numpy.lib.stride_tricks import sliding_window_view\n",
        "\n",
        "Z = np.arange(20)\n",
        "print(sliding_window_view(Z, window_shape=3).mean(axis=-1))"
      ]
    },
    {
      "cell_type": "markdown",
      "metadata": {
        "id": "GamHzWnybX4A"
      },
      "source": [
        "#### 76. Consider a one-dimensional array Z, build a two-dimensional array whose first row is (Z\\[0\\],Z\\[1\\],Z\\[2\\]) and each subsequent row is  shifted by 1 (last row should be (Z\\[-3\\],Z\\[-2\\],Z\\[-1\\]) (★★★) \n",
        "(**hint**: from numpy.lib import stride_tricks)"
      ]
    },
    {
      "cell_type": "code",
      "execution_count": 50,
      "metadata": {
        "colab": {
          "base_uri": "https://localhost:8080/"
        },
        "id": "J05UgqSqbX4B",
        "outputId": "75212d3a-80e5-47d9-ced3-d48212a6e9bc"
      },
      "outputs": [
        {
          "output_type": "stream",
          "name": "stdout",
          "text": [
            "[[0 1 2]\n",
            " [1 2 3]\n",
            " [2 3 4]\n",
            " [3 4 5]\n",
            " [4 5 6]\n",
            " [5 6 7]\n",
            " [6 7 8]\n",
            " [7 8 9]]\n"
          ]
        }
      ],
      "source": [
        "from numpy.lib import stride_tricks\n",
        "Z = np.arange(10)\n",
        "print(sliding_window_view(Z, window_shape=3))"
      ]
    },
    {
      "cell_type": "markdown",
      "metadata": {
        "id": "Rk8ZHXA8bX4B"
      },
      "source": [
        "#### 77. How to negate a boolean, or to change the sign of a float inplace? (★★★) \n",
        "(**hint**: np.logical_not, np.negative)"
      ]
    },
    {
      "cell_type": "code",
      "execution_count": 51,
      "metadata": {
        "colab": {
          "base_uri": "https://localhost:8080/"
        },
        "id": "c1uXVt-ZbX4B",
        "outputId": "fdd08a05-114d-4c01-8612-a6f9bffc9767"
      },
      "outputs": [
        {
          "output_type": "execute_result",
          "data": {
            "text/plain": [
              "array([ 0.20197723, -0.26214432, -0.02235244, -0.8353604 ,  0.39346688,\n",
              "       -0.15514443,  0.98348873, -0.23853579, -0.78237697, -0.35045062,\n",
              "        0.64128027, -0.03083661, -0.79752513, -0.28758962, -0.55074732,\n",
              "       -0.840038  , -0.82566848, -0.72525725, -0.98805608, -0.29954976,\n",
              "       -0.49578869,  0.69455086, -0.02413191, -0.64548815,  0.74178741,\n",
              "        0.18693094,  0.49737099, -0.14883881,  0.66773387,  0.54570368,\n",
              "       -0.74352668,  0.33089712, -0.97769359,  0.89062475,  0.72832728,\n",
              "        0.67939296,  0.95808965, -0.65149816,  0.22389734, -0.69744013,\n",
              "       -0.0737927 , -0.61126681,  0.69003247,  0.33442646, -0.95010604,\n",
              "        0.60653338,  0.77901174,  0.0532744 ,  0.22163809,  0.42651376,\n",
              "       -0.7018355 , -0.99460298, -0.03687981,  0.79474686,  0.43807998,\n",
              "       -0.06968372, -0.39187851,  0.31933323,  0.57045992,  0.8575262 ,\n",
              "       -0.01555956, -0.31700348,  0.77845905,  0.70369986, -0.86738121,\n",
              "       -0.14168092,  0.17436595,  0.11250063,  0.97205587,  0.43884471,\n",
              "        0.782838  , -0.62362642, -0.25173595, -0.24363916,  0.19890753,\n",
              "        0.12189618, -0.88391894,  0.63375436, -0.93172398, -0.72130421,\n",
              "       -0.82121458,  0.93719439,  0.70554886, -0.34755024, -0.07525511,\n",
              "        0.73839793,  0.85179042,  0.04734119, -0.00356268, -0.42234105,\n",
              "        0.51317508, -0.4491829 , -0.71915324, -0.83300147,  0.29383476,\n",
              "       -0.87764456, -0.33451377,  0.3157843 ,  0.29320099, -0.37239942])"
            ]
          },
          "metadata": {},
          "execution_count": 51
        }
      ],
      "source": [
        "A = np.random.randint(0,2,100)\n",
        "np.logical_not(A, out=A)\n",
        "\n",
        "A = np.random.uniform(-1.0,1.0,100)\n",
        "np.negative(A, out=A)"
      ]
    },
    {
      "cell_type": "markdown",
      "metadata": {
        "id": "BXohl8o8bX4C"
      },
      "source": [
        "#### 78. Consider 2 sets of points P0,P1 describing lines (2d) and a point p, how to compute distance from p to each line i  (P0\\[i\\],P1\\[i\\])? (★★★)"
      ]
    },
    {
      "cell_type": "code",
      "execution_count": 52,
      "metadata": {
        "colab": {
          "base_uri": "https://localhost:8080/"
        },
        "id": "shMcbk5ebX4C",
        "outputId": "31ade94b-74ac-4e08-bda1-26eb14c12b82"
      },
      "outputs": [
        {
          "output_type": "stream",
          "name": "stdout",
          "text": [
            "[7.11248248 1.00238482 5.01077854 2.95403049 2.70676501 5.47051039\n",
            " 5.25251835 0.13252891 9.62184548 2.93000922]\n"
          ]
        }
      ],
      "source": [
        "def distance(P0, P1, p):\n",
        "    T = P1 - P0\n",
        "    L = (T**2).sum(axis=1)\n",
        "    U = -((P0[:,0]-p[...,0])*T[:,0] + (P0[:,1]-p[...,1])*T[:,1]) / L\n",
        "    U = U.reshape(len(U),1)\n",
        "    D = P0 + U*T - p\n",
        "    return np.sqrt((D**2).sum(axis=1))\n",
        "\n",
        "P0 = np.random.uniform(-10,10,(10,2))\n",
        "P1 = np.random.uniform(-10,10,(10,2))\n",
        "p  = np.random.uniform(-10,10,( 1,2))\n",
        "print(distance(P0, P1, p))"
      ]
    },
    {
      "cell_type": "markdown",
      "metadata": {
        "id": "bIk8jQRQbX4C"
      },
      "source": [
        "#### 79. Consider 2 sets of points P0,P1 describing lines (2d) and a set of points P, how to compute distance from each point j (P\\[j\\]) to each line i (P0\\[i\\],P1\\[i\\])? (★★★)"
      ]
    },
    {
      "cell_type": "code",
      "execution_count": 53,
      "metadata": {
        "colab": {
          "base_uri": "https://localhost:8080/"
        },
        "id": "ldfjqf74bX4D",
        "outputId": "f4720fbe-7cd5-4d7a-bafb-cd6e2e42d6a9"
      },
      "outputs": [
        {
          "output_type": "stream",
          "name": "stdout",
          "text": [
            "[[ 4.92490633 13.5027449   1.30198166  4.45975014 13.63361775  9.44944215\n",
            "   4.28244162 13.11603956  7.15783887  0.34034389]\n",
            " [ 8.82084669 17.00823582  0.2206751   3.03326809 13.1516196  12.7985134\n",
            "   2.10912847 16.15563806 10.58860874  3.70907491]\n",
            " [ 8.00921513  0.58716134 13.8138376   1.42621621  4.78981503  4.84213752\n",
            "   1.20136305  1.35730685  7.03991024 11.98149506]\n",
            " [ 9.68205793 17.26529713  1.86587033  0.4747596  10.83943182 12.86873754\n",
            "   0.5457312  15.90208741 10.75398912  4.98487936]\n",
            " [ 0.94305241  5.61435662 12.42200573  4.69128938  3.24911884  1.0296694\n",
            "   3.39748515  3.87603749  0.99662807  4.52193777]\n",
            " [ 0.48902621  8.67517008  2.64531897  6.63166665 14.48987361  4.85210485\n",
            "   7.48636946  8.97034358  2.44045297  5.99973513]\n",
            " [ 1.44529289  5.70361038 19.25371142 14.48812777  5.81940432  0.41741078\n",
            "  13.37874614  2.05833577  1.25214766  0.52538643]\n",
            " [ 7.53572692 14.91434567  3.98879701  0.55753554  9.31723326 10.48054859\n",
            "   1.11087146 13.4774107   8.38328023  3.06253635]\n",
            " [ 5.84756915 14.21887381  1.46093869  3.62781375 13.03362921 10.09498823\n",
            "   3.28877675 13.63204479  7.83971548  0.70251644]\n",
            " [ 1.52945268  7.83573795  2.58214709  7.43160045 15.03056754  4.08288468\n",
            "   8.47290838  8.33146695  1.63501461  7.15225032]]\n"
          ]
        }
      ],
      "source": [
        "P0 = np.random.uniform(-10, 10, (10,2))\n",
        "P1 = np.random.uniform(-10,10,(10,2))\n",
        "p = np.random.uniform(-10, 10, (10,2))\n",
        "print(np.array([distance(P0,P1,p_i) for p_i in p]))"
      ]
    },
    {
      "cell_type": "markdown",
      "metadata": {
        "id": "Ai2bs0pMbX4D"
      },
      "source": [
        "#### 80. Consider an arbitrary array, write a function that extract a subpart with a fixed shape and centered on a given element (pad with a `fill` value when necessary) (★★★) \n",
        "(**hint**: minimum, maximum)"
      ]
    },
    {
      "cell_type": "code",
      "execution_count": null,
      "metadata": {
        "id": "qIdl7lGjbX4D"
      },
      "outputs": [],
      "source": []
    },
    {
      "cell_type": "markdown",
      "metadata": {
        "id": "q6fW2xOFbX4E"
      },
      "source": [
        "#### 81. Consider an array Z = \\[1,2,3,4,5,6,7,8,9,10,11,12,13,14\\], how to generate an array R = \\[\\[1,2,3,4\\], \\[2,3,4,5\\], \\[3,4,5,6\\], ..., \\[11,12,13,14\\]\\]? (★★★) \n",
        "(**hint**: stride\\_tricks.as\\_strided)"
      ]
    },
    {
      "cell_type": "code",
      "execution_count": 55,
      "metadata": {
        "colab": {
          "base_uri": "https://localhost:8080/"
        },
        "id": "yxB-6Z9dbX4E",
        "outputId": "2eabe42a-05c6-44bd-add5-0a16c28d567a"
      },
      "outputs": [
        {
          "output_type": "stream",
          "name": "stdout",
          "text": [
            "[[ 1  2  3  4]\n",
            " [ 2  3  4  5]\n",
            " [ 3  4  5  6]\n",
            " [ 4  5  6  7]\n",
            " [ 5  6  7  8]\n",
            " [ 6  7  8  9]\n",
            " [ 7  8  9 10]\n",
            " [ 8  9 10 11]\n",
            " [ 9 10 11 12]\n",
            " [10 11 12 13]\n",
            " [11 12 13 14]]\n"
          ]
        }
      ],
      "source": [
        "from numpy.lib import stride_tricks\n",
        "Z = np.arange(1,15,dtype=np.uint32)\n",
        "R = stride_tricks.as_strided(Z,(11,4),(4,4))\n",
        "print(R)"
      ]
    },
    {
      "cell_type": "markdown",
      "metadata": {
        "id": "UFbi3m_ebX4F"
      },
      "source": [
        "#### 82. Compute a matrix rank (★★★) \n",
        "(**hint**: np.linalg.svd) (suggestion: np.linalg.svd)"
      ]
    },
    {
      "cell_type": "code",
      "execution_count": 59,
      "metadata": {
        "colab": {
          "base_uri": "https://localhost:8080/"
        },
        "id": "JyMXyuM0bX4F",
        "outputId": "62075327-dd22-40e1-a85e-68a2694a7549"
      },
      "outputs": [
        {
          "output_type": "stream",
          "name": "stdout",
          "text": [
            "10\n"
          ]
        }
      ],
      "source": [
        "A = np.random.uniform(0,1,(10,10))\n",
        "rank = np.linalg.matrix_rank(A)\n",
        "print(rank)"
      ]
    },
    {
      "cell_type": "markdown",
      "metadata": {
        "id": "zKIqfpOObX4F"
      },
      "source": [
        "#### 83. How to find the most frequent value in an array? \n",
        "(**hint**: np.bincount, argmax)"
      ]
    },
    {
      "cell_type": "code",
      "execution_count": 60,
      "metadata": {
        "colab": {
          "base_uri": "https://localhost:8080/"
        },
        "id": "cWTeol-dbX4G",
        "outputId": "37db772e-fc28-4451-ca92-a637da0d5a40"
      },
      "outputs": [
        {
          "output_type": "stream",
          "name": "stdout",
          "text": [
            "6\n"
          ]
        }
      ],
      "source": [
        "A = np.random.randint(0,10,50)\n",
        "print(np.bincount(A).argmax())"
      ]
    },
    {
      "cell_type": "markdown",
      "metadata": {
        "id": "As4A54iwbX4H"
      },
      "source": [
        "#### 84. Extract all the contiguous 3x3 blocks from a random 10x10 matrix (★★★) \n",
        "(**hint**: stride\\_tricks.as\\_strided)"
      ]
    },
    {
      "cell_type": "code",
      "execution_count": 63,
      "metadata": {
        "colab": {
          "base_uri": "https://localhost:8080/"
        },
        "id": "4KrzoBzZbX4I",
        "outputId": "01c74f7c-83bf-45fe-a221-6d55dfcc375c"
      },
      "outputs": [
        {
          "output_type": "stream",
          "name": "stdout",
          "text": [
            "[[[[0 1 1]\n",
            "   [2 1 0]\n",
            "   [4 3 4]]\n",
            "\n",
            "  [[1 1 0]\n",
            "   [1 0 2]\n",
            "   [3 4 4]]\n",
            "\n",
            "  [[1 0 4]\n",
            "   [0 2 3]\n",
            "   [4 4 4]]\n",
            "\n",
            "  [[0 4 0]\n",
            "   [2 3 1]\n",
            "   [4 4 1]]\n",
            "\n",
            "  [[4 0 3]\n",
            "   [3 1 3]\n",
            "   [4 1 2]]\n",
            "\n",
            "  [[0 3 0]\n",
            "   [1 3 4]\n",
            "   [1 2 2]]\n",
            "\n",
            "  [[3 0 3]\n",
            "   [3 4 2]\n",
            "   [2 2 1]]\n",
            "\n",
            "  [[0 3 3]\n",
            "   [4 2 4]\n",
            "   [2 1 4]]]\n",
            "\n",
            "\n",
            " [[[2 1 0]\n",
            "   [4 3 4]\n",
            "   [3 0 1]]\n",
            "\n",
            "  [[1 0 2]\n",
            "   [3 4 4]\n",
            "   [0 1 2]]\n",
            "\n",
            "  [[0 2 3]\n",
            "   [4 4 4]\n",
            "   [1 2 3]]\n",
            "\n",
            "  [[2 3 1]\n",
            "   [4 4 1]\n",
            "   [2 3 3]]\n",
            "\n",
            "  [[3 1 3]\n",
            "   [4 1 2]\n",
            "   [3 3 3]]\n",
            "\n",
            "  [[1 3 4]\n",
            "   [1 2 2]\n",
            "   [3 3 0]]\n",
            "\n",
            "  [[3 4 2]\n",
            "   [2 2 1]\n",
            "   [3 0 0]]\n",
            "\n",
            "  [[4 2 4]\n",
            "   [2 1 4]\n",
            "   [0 0 1]]]\n",
            "\n",
            "\n",
            " [[[4 3 4]\n",
            "   [3 0 1]\n",
            "   [3 1 2]]\n",
            "\n",
            "  [[3 4 4]\n",
            "   [0 1 2]\n",
            "   [1 2 0]]\n",
            "\n",
            "  [[4 4 4]\n",
            "   [1 2 3]\n",
            "   [2 0 4]]\n",
            "\n",
            "  [[4 4 1]\n",
            "   [2 3 3]\n",
            "   [0 4 4]]\n",
            "\n",
            "  [[4 1 2]\n",
            "   [3 3 3]\n",
            "   [4 4 0]]\n",
            "\n",
            "  [[1 2 2]\n",
            "   [3 3 0]\n",
            "   [4 0 3]]\n",
            "\n",
            "  [[2 2 1]\n",
            "   [3 0 0]\n",
            "   [0 3 2]]\n",
            "\n",
            "  [[2 1 4]\n",
            "   [0 0 1]\n",
            "   [3 2 0]]]\n",
            "\n",
            "\n",
            " [[[3 0 1]\n",
            "   [3 1 2]\n",
            "   [4 3 4]]\n",
            "\n",
            "  [[0 1 2]\n",
            "   [1 2 0]\n",
            "   [3 4 4]]\n",
            "\n",
            "  [[1 2 3]\n",
            "   [2 0 4]\n",
            "   [4 4 1]]\n",
            "\n",
            "  [[2 3 3]\n",
            "   [0 4 4]\n",
            "   [4 1 0]]\n",
            "\n",
            "  [[3 3 3]\n",
            "   [4 4 0]\n",
            "   [1 0 2]]\n",
            "\n",
            "  [[3 3 0]\n",
            "   [4 0 3]\n",
            "   [0 2 1]]\n",
            "\n",
            "  [[3 0 0]\n",
            "   [0 3 2]\n",
            "   [2 1 2]]\n",
            "\n",
            "  [[0 0 1]\n",
            "   [3 2 0]\n",
            "   [1 2 4]]]\n",
            "\n",
            "\n",
            " [[[3 1 2]\n",
            "   [4 3 4]\n",
            "   [1 2 2]]\n",
            "\n",
            "  [[1 2 0]\n",
            "   [3 4 4]\n",
            "   [2 2 3]]\n",
            "\n",
            "  [[2 0 4]\n",
            "   [4 4 1]\n",
            "   [2 3 1]]\n",
            "\n",
            "  [[0 4 4]\n",
            "   [4 1 0]\n",
            "   [3 1 2]]\n",
            "\n",
            "  [[4 4 0]\n",
            "   [1 0 2]\n",
            "   [1 2 4]]\n",
            "\n",
            "  [[4 0 3]\n",
            "   [0 2 1]\n",
            "   [2 4 2]]\n",
            "\n",
            "  [[0 3 2]\n",
            "   [2 1 2]\n",
            "   [4 2 4]]\n",
            "\n",
            "  [[3 2 0]\n",
            "   [1 2 4]\n",
            "   [2 4 4]]]\n",
            "\n",
            "\n",
            " [[[4 3 4]\n",
            "   [1 2 2]\n",
            "   [4 4 4]]\n",
            "\n",
            "  [[3 4 4]\n",
            "   [2 2 3]\n",
            "   [4 4 2]]\n",
            "\n",
            "  [[4 4 1]\n",
            "   [2 3 1]\n",
            "   [4 2 2]]\n",
            "\n",
            "  [[4 1 0]\n",
            "   [3 1 2]\n",
            "   [2 2 4]]\n",
            "\n",
            "  [[1 0 2]\n",
            "   [1 2 4]\n",
            "   [2 4 0]]\n",
            "\n",
            "  [[0 2 1]\n",
            "   [2 4 2]\n",
            "   [4 0 1]]\n",
            "\n",
            "  [[2 1 2]\n",
            "   [4 2 4]\n",
            "   [0 1 0]]\n",
            "\n",
            "  [[1 2 4]\n",
            "   [2 4 4]\n",
            "   [1 0 4]]]\n",
            "\n",
            "\n",
            " [[[1 2 2]\n",
            "   [4 4 4]\n",
            "   [3 2 1]]\n",
            "\n",
            "  [[2 2 3]\n",
            "   [4 4 2]\n",
            "   [2 1 4]]\n",
            "\n",
            "  [[2 3 1]\n",
            "   [4 2 2]\n",
            "   [1 4 1]]\n",
            "\n",
            "  [[3 1 2]\n",
            "   [2 2 4]\n",
            "   [4 1 4]]\n",
            "\n",
            "  [[1 2 4]\n",
            "   [2 4 0]\n",
            "   [1 4 0]]\n",
            "\n",
            "  [[2 4 2]\n",
            "   [4 0 1]\n",
            "   [4 0 0]]\n",
            "\n",
            "  [[4 2 4]\n",
            "   [0 1 0]\n",
            "   [0 0 4]]\n",
            "\n",
            "  [[2 4 4]\n",
            "   [1 0 4]\n",
            "   [0 4 2]]]\n",
            "\n",
            "\n",
            " [[[4 4 4]\n",
            "   [3 2 1]\n",
            "   [3 2 2]]\n",
            "\n",
            "  [[4 4 2]\n",
            "   [2 1 4]\n",
            "   [2 2 0]]\n",
            "\n",
            "  [[4 2 2]\n",
            "   [1 4 1]\n",
            "   [2 0 2]]\n",
            "\n",
            "  [[2 2 4]\n",
            "   [4 1 4]\n",
            "   [0 2 1]]\n",
            "\n",
            "  [[2 4 0]\n",
            "   [1 4 0]\n",
            "   [2 1 3]]\n",
            "\n",
            "  [[4 0 1]\n",
            "   [4 0 0]\n",
            "   [1 3 4]]\n",
            "\n",
            "  [[0 1 0]\n",
            "   [0 0 4]\n",
            "   [3 4 2]]\n",
            "\n",
            "  [[1 0 4]\n",
            "   [0 4 2]\n",
            "   [4 2 3]]]]\n"
          ]
        }
      ],
      "source": [
        "from numpy.lib import stride_tricks\n",
        "Z = np.random.randint(0,5,(10,10))\n",
        "n = 3\n",
        "i = 1 + (Z.shape[0]-3)\n",
        "j = 1 + (Z.shape[1]-3)\n",
        "C = stride_tricks.as_strided(Z, shape=(i, j, n, n), strides=Z.strides + Z.strides)\n",
        "print(C)"
      ]
    },
    {
      "cell_type": "markdown",
      "metadata": {
        "id": "OcMI5nsXbX4I"
      },
      "source": [
        "#### 85. Create a 2D array subclass such that Z\\[i,j\\] == Z\\[j,i\\] (★★★) \n",
        "(**hint**: class method)"
      ]
    },
    {
      "cell_type": "code",
      "execution_count": 64,
      "metadata": {
        "colab": {
          "base_uri": "https://localhost:8080/"
        },
        "id": "2_ELGw0WbX4I",
        "outputId": "c86a1e79-5d64-4673-c289-596bac78006f"
      },
      "outputs": [
        {
          "output_type": "stream",
          "name": "stdout",
          "text": [
            "[[ 6  5 10 12  8]\n",
            " [ 5  8  9  7  9]\n",
            " [10  9  0 42  8]\n",
            " [12  7 42  7  5]\n",
            " [ 8  9  8  5  7]]\n"
          ]
        }
      ],
      "source": [
        "class Symetric(np.ndarray):\n",
        "    def __setitem__(self, index, value):\n",
        "        a,b = index\n",
        "        super(Symetric, self).__setitem__((a,b), value)\n",
        "        super(Symetric, self).__setitem__((b,a), value)\n",
        "\n",
        "def symetric(Z):\n",
        "    return np.asarray(Z + Z.T - np.diag(Z.diagonal())).view(Symetric)\n",
        "\n",
        "S = symetric(np.random.randint(0,10,(5,5)))\n",
        "S[2,3] = 42\n",
        "print(S)"
      ]
    },
    {
      "cell_type": "markdown",
      "metadata": {
        "id": "r61w3OfUbX4J"
      },
      "source": [
        "#### 86. Consider a set of p matrices wich shape (n,n) and a set of p vectors with shape (n,1). How to compute the sum of of the p matrix products at once? (result has shape (n,1)) (★★★) \n",
        "(**hint**: np.tensordot)"
      ]
    },
    {
      "cell_type": "code",
      "execution_count": 65,
      "metadata": {
        "colab": {
          "base_uri": "https://localhost:8080/"
        },
        "id": "4aWuTjbwbX4J",
        "outputId": "996e5bbb-3ce5-4653-de10-52ced63e6404"
      },
      "outputs": [
        {
          "output_type": "stream",
          "name": "stdout",
          "text": [
            "[[200.]\n",
            " [200.]\n",
            " [200.]\n",
            " [200.]\n",
            " [200.]\n",
            " [200.]\n",
            " [200.]\n",
            " [200.]\n",
            " [200.]\n",
            " [200.]\n",
            " [200.]\n",
            " [200.]\n",
            " [200.]\n",
            " [200.]\n",
            " [200.]\n",
            " [200.]\n",
            " [200.]\n",
            " [200.]\n",
            " [200.]\n",
            " [200.]]\n"
          ]
        }
      ],
      "source": [
        "p, n = 10, 20\n",
        "M = np.ones((p,n,n))\n",
        "V = np.ones((p,n,1))\n",
        "S = np.tensordot(M, V, axes=[[0, 2], [0, 1]])\n",
        "print(S)"
      ]
    },
    {
      "cell_type": "markdown",
      "metadata": {
        "id": "mz3UzSDebX4J"
      },
      "source": [
        "#### 87. Consider a 16x16 array, how to get the block-sum (block size is 4x4)? (★★★) \n",
        "(**hint**: np.add.reduceat)"
      ]
    },
    {
      "cell_type": "code",
      "execution_count": 66,
      "metadata": {
        "colab": {
          "base_uri": "https://localhost:8080/"
        },
        "id": "0FqyPmrFbX4J",
        "outputId": "3b88b224-1047-432c-c5b6-b5d900a40444"
      },
      "outputs": [
        {
          "output_type": "stream",
          "name": "stdout",
          "text": [
            "[[16. 16. 16. 16.]\n",
            " [16. 16. 16. 16.]\n",
            " [16. 16. 16. 16.]\n",
            " [16. 16. 16. 16.]]\n"
          ]
        }
      ],
      "source": [
        "Z = np.ones((16,16))\n",
        "k = 4\n",
        "S = np.add.reduceat(np.add.reduceat(Z, np.arange(0, Z.shape[0], k), axis=0),\n",
        "                                       np.arange(0, Z.shape[1], k), axis=1)\n",
        "print(S)"
      ]
    },
    {
      "cell_type": "markdown",
      "metadata": {
        "id": "chTAH_xHbX4K"
      },
      "source": [
        "#### 88. How to implement the Game of Life using numpy arrays? (★★★)"
      ]
    },
    {
      "cell_type": "code",
      "source": [],
      "metadata": {
        "id": "F-jxGiaI8U9U"
      },
      "execution_count": null,
      "outputs": []
    },
    {
      "cell_type": "markdown",
      "metadata": {
        "id": "JXDSPOUzbX4K"
      },
      "source": [
        "#### 89. How to get the n largest values of an array (★★★) \n",
        "(**hint**: np.argsort | np.argpartition)"
      ]
    },
    {
      "cell_type": "code",
      "execution_count": 69,
      "metadata": {
        "colab": {
          "base_uri": "https://localhost:8080/"
        },
        "id": "ehvQHJuMbX4K",
        "outputId": "0f66a541-004c-4a14-8f6c-8e9112b025a9"
      },
      "outputs": [
        {
          "output_type": "stream",
          "name": "stdout",
          "text": [
            "[95 96 97 98 99]\n",
            "[97 99 98 96 95]\n"
          ]
        }
      ],
      "source": [
        "Z = np.arange(100)\n",
        "np.random.shuffle(Z)\n",
        "n = 5\n",
        "print (Z[np.argsort(Z)[-n:]])\n",
        "print (Z[np.argpartition(-Z,n)[:n]])"
      ]
    },
    {
      "cell_type": "markdown",
      "metadata": {
        "id": "3gz_Vn2zbX4L"
      },
      "source": [
        "#### 90. Given an arbitrary number of vectors, build the cartesian product (every combinations of every item) (★★★) \n",
        "(**hint**: np.indices)"
      ]
    },
    {
      "cell_type": "code",
      "execution_count": null,
      "metadata": {
        "scrolled": true,
        "id": "7_GiEJoZbX4L"
      },
      "outputs": [],
      "source": []
    },
    {
      "cell_type": "markdown",
      "metadata": {
        "id": "QfLtBv2sbX4L"
      },
      "source": [
        "#### 91. How to create a record array from a regular array? (★★★) \n",
        "(**hint**: np.core.records.fromarrays)"
      ]
    },
    {
      "cell_type": "code",
      "execution_count": 70,
      "metadata": {
        "colab": {
          "base_uri": "https://localhost:8080/"
        },
        "id": "FvLgQb7FbX4M",
        "outputId": "9f1cff17-f134-4cbb-bd7f-2e028b7daf8a"
      },
      "outputs": [
        {
          "output_type": "stream",
          "name": "stdout",
          "text": [
            "[(b'Hello', 2.5, 3) (b'World', 3.6, 2)]\n"
          ]
        }
      ],
      "source": [
        "A = np.array([(\"Hello\", 2.5, 3),\n",
        "              (\"World\", 3.6, 2)])\n",
        "R = np.core.records.fromarrays(A.T,\n",
        "                               names='col1, col2, col3',\n",
        "                               formats = 'S8, f8, i8')\n",
        "print(R)"
      ]
    },
    {
      "cell_type": "markdown",
      "metadata": {
        "id": "bPkF5G4MbX4M"
      },
      "source": [
        "#### 92. Consider a large vector Z, compute Z to the power of 3 using 3 different methods (★★★) \n",
        "(**hint**: np.power, \\*, np.einsum)"
      ]
    },
    {
      "cell_type": "code",
      "source": [
        "Z = np.random.rand(int(5e7))\n",
        "\n",
        "%timeit np.power(Z,3)\n",
        "%timeit Z*Z*Z\n",
        "%timeit np.einsum('i,i,i->i',Z,Z,Z)"
      ],
      "metadata": {
        "id": "ia8uL2L39RAa"
      },
      "execution_count": null,
      "outputs": []
    },
    {
      "cell_type": "markdown",
      "metadata": {
        "id": "975lO8anbX4N"
      },
      "source": [
        "#### 93. Consider two arrays A and B of shape (8,3) and (2,2). How to find rows of A that contain elements of each row of B regardless of the order of the elements in B? (★★★) \n",
        "(**hint**: np.where)"
      ]
    },
    {
      "cell_type": "code",
      "source": [
        "A = np.random.randint(0,5,(8,3))\n",
        "B = np.random.randint(0,5,(2,2))\n",
        "\n",
        "C = (A[..., np.newaxis, np.newaxis] == B)\n",
        "rows = np.where(C.any((3,1)).all(1))[0]\n",
        "print(rows)"
      ],
      "metadata": {
        "colab": {
          "base_uri": "https://localhost:8080/"
        },
        "id": "0WwEZK4G9S4b",
        "outputId": "905a3696-b9d4-4360-84c2-7243ca7118d7"
      },
      "execution_count": 74,
      "outputs": [
        {
          "output_type": "stream",
          "name": "stdout",
          "text": [
            "[0 3 4 6]\n"
          ]
        }
      ]
    },
    {
      "cell_type": "markdown",
      "metadata": {
        "id": "vwtrtNx0bX4N"
      },
      "source": [
        "#### 94. Considering a 10x3 matrix, extract rows with unequal values (e.g. \\[2,2,3\\]) (★★★)"
      ]
    },
    {
      "cell_type": "code",
      "execution_count": 75,
      "metadata": {
        "colab": {
          "base_uri": "https://localhost:8080/"
        },
        "id": "NZ22WyZ6bX4O",
        "outputId": "d3295b11-40ab-440c-c5fc-4492f48d0163"
      },
      "outputs": [
        {
          "output_type": "stream",
          "name": "stdout",
          "text": [
            "[[2 0 0]\n",
            " [3 0 2]\n",
            " [2 0 4]\n",
            " [0 3 2]\n",
            " [4 4 3]\n",
            " [3 4 1]\n",
            " [2 0 1]\n",
            " [4 2 0]\n",
            " [1 2 0]\n",
            " [4 3 3]]\n",
            "[[2 0 0]\n",
            " [3 0 2]\n",
            " [2 0 4]\n",
            " [0 3 2]\n",
            " [4 4 3]\n",
            " [3 4 1]\n",
            " [2 0 1]\n",
            " [4 2 0]\n",
            " [1 2 0]\n",
            " [4 3 3]]\n",
            "[[2 0 0]\n",
            " [3 0 2]\n",
            " [2 0 4]\n",
            " [0 3 2]\n",
            " [4 4 3]\n",
            " [3 4 1]\n",
            " [2 0 1]\n",
            " [4 2 0]\n",
            " [1 2 0]\n",
            " [4 3 3]]\n"
          ]
        }
      ],
      "source": [
        "A = np.random.randint(0,5,(10,3))\n",
        "print(A)\n",
        "# arrays of all dtypes \n",
        "E = np.all(A[:,1:] == A[:,:-1], axis=1)\n",
        "U = A[~E]\n",
        "print(U)\n",
        "#  for numerical arrays \n",
        "U = A[A.max(axis=1) != A.min(axis=1),:]\n",
        "print(U)"
      ]
    },
    {
      "cell_type": "markdown",
      "metadata": {
        "id": "owI_XWY_bX4O"
      },
      "source": [
        "#### 95. Convert a vector of ints into a matrix binary representation (★★★) \n",
        "(**hint**: np.unpackbits)"
      ]
    },
    {
      "cell_type": "code",
      "execution_count": 76,
      "metadata": {
        "colab": {
          "base_uri": "https://localhost:8080/"
        },
        "id": "zc_QoNU5bX4O",
        "outputId": "a35cb3fd-6640-4c13-97f2-bcb06419c672"
      },
      "outputs": [
        {
          "output_type": "stream",
          "name": "stdout",
          "text": [
            "[[0 0 0 0 0 0 0 0]\n",
            " [0 0 0 0 0 0 0 1]\n",
            " [0 0 0 0 0 0 1 0]\n",
            " [0 0 0 0 0 0 1 1]\n",
            " [0 0 0 0 1 1 1 1]\n",
            " [0 0 0 1 0 0 0 0]\n",
            " [0 0 1 0 0 0 0 0]\n",
            " [0 1 0 0 0 0 0 0]\n",
            " [1 0 0 0 0 0 0 0]]\n"
          ]
        }
      ],
      "source": [
        "A = np.array([0, 1, 2, 3, 15, 16, 32, 64, 128], dtype=np.uint8)\n",
        "print(np.unpackbits(A[:, np.newaxis], axis=1))"
      ]
    },
    {
      "cell_type": "markdown",
      "metadata": {
        "id": "ws2Nh7GFbX4O"
      },
      "source": [
        "#### 96. Given a two dimensional array, how to extract unique rows? (★★★) \n",
        "(**hint**: np.ascontiguousarray)"
      ]
    },
    {
      "cell_type": "code",
      "execution_count": 78,
      "metadata": {
        "colab": {
          "base_uri": "https://localhost:8080/"
        },
        "id": "P9xJ-up1bX4O",
        "outputId": "2cb98aca-d0d0-4b84-e7e2-3e8eed410fa5"
      },
      "outputs": [
        {
          "output_type": "stream",
          "name": "stdout",
          "text": [
            "[[0 0 0]\n",
            " [0 0 1]\n",
            " [0 1 1]\n",
            " [1 0 0]\n",
            " [1 0 1]]\n"
          ]
        }
      ],
      "source": [
        "Z = np.random.randint(0,2,(6,3))\n",
        "T = np.ascontiguousarray(Z).view(np.dtype((np.void, Z.dtype.itemsize * Z.shape[1])))\n",
        "_, idx = np.unique(T, return_index=True)\n",
        "result = Z[idx]\n",
        "print(result)"
      ]
    },
    {
      "cell_type": "markdown",
      "metadata": {
        "id": "PURbzJdmbX4P"
      },
      "source": [
        "#### 97. Considering 2 vectors A & B, write the einsum equivalent of inner, outer, sum, and mul function (★★★) \n",
        "(**hint**: np.einsum)"
      ]
    },
    {
      "cell_type": "code",
      "execution_count": 79,
      "metadata": {
        "colab": {
          "base_uri": "https://localhost:8080/"
        },
        "id": "nwkoGyX8bX4P",
        "outputId": "3f71251e-2bb1-4664-d6c3-02a84677ce82"
      },
      "outputs": [
        {
          "output_type": "execute_result",
          "data": {
            "text/plain": [
              "array([[0.29872041, 0.22314767, 0.28639187, 0.29013425, 0.18407225,\n",
              "        0.01883523, 0.25575121, 0.12121438, 0.03897091, 0.06220544],\n",
              "       [0.15448167, 0.11539963, 0.14810603, 0.15004138, 0.09519198,\n",
              "        0.00974054, 0.13226038, 0.06268537, 0.0201536 , 0.03216921],\n",
              "       [0.56550134, 0.42243616, 0.54216242, 0.54924705, 0.34846331,\n",
              "        0.03565657, 0.48415725, 0.22946839, 0.07377501, 0.11775982],\n",
              "       [0.15365234, 0.11478011, 0.14731093, 0.14923589, 0.09468095,\n",
              "        0.00968825, 0.13155034, 0.06234885, 0.0200454 , 0.03199652],\n",
              "       [0.23084963, 0.17244739, 0.22132219, 0.22421428, 0.14225011,\n",
              "        0.01455577, 0.19764325, 0.09367386, 0.03011652, 0.04807205],\n",
              "       [0.28026619, 0.20936215, 0.26869927, 0.27221046, 0.17270071,\n",
              "        0.01767163, 0.23995152, 0.11372605, 0.03656338, 0.05836254],\n",
              "       [0.21235232, 0.15862968, 0.20358828, 0.20624864, 0.13085202,\n",
              "        0.01338946, 0.18180667, 0.08616804, 0.02770337, 0.04422018],\n",
              "       [0.62812817, 0.46921914, 0.60220457, 0.61007378, 0.38705411,\n",
              "        0.03960539, 0.53777557, 0.25488102, 0.08194527, 0.13080121],\n",
              "       [0.85754634, 0.64059722, 0.82215438, 0.83289775, 0.52842215,\n",
              "        0.0540709 , 0.73419327, 0.34797403, 0.11187505, 0.17857518],\n",
              "       [0.70506827, 0.52669431, 0.67596927, 0.68480239, 0.4344648 ,\n",
              "        0.04445669, 0.60364829, 0.28610168, 0.09198284, 0.1468232 ]])"
            ]
          },
          "metadata": {},
          "execution_count": 79
        }
      ],
      "source": [
        "A = np.random.uniform(0,1,10)\n",
        "B = np.random.uniform(0,1,10)\n",
        "\n",
        "np.einsum('i->', A)       # np.sum(A)\n",
        "np.einsum('i,i->i', A, B) # A * B\n",
        "np.einsum('i,i', A, B)    # np.inner(A, B)\n",
        "np.einsum('i,j->ij', A, B)    # np.outer(A, B)"
      ]
    },
    {
      "cell_type": "markdown",
      "metadata": {
        "id": "hCjNoEVEbX4P"
      },
      "source": [
        "#### 98. Considering a path described by two vectors (X,Y), how to sample it using equidistant samples (★★★)? \n",
        "(**hint**: np.cumsum, np.interp)"
      ]
    },
    {
      "cell_type": "code",
      "execution_count": 82,
      "metadata": {
        "collapsed": true,
        "colab": {
          "base_uri": "https://localhost:8080/"
        },
        "id": "_hD9vaZrbX4Q",
        "outputId": "df37e26d-2d53-414b-871a-c2fa90b1d481"
      },
      "outputs": [
        {
          "output_type": "stream",
          "name": "stdout",
          "text": [
            "2.6\n"
          ]
        }
      ],
      "source": [
        "x = 3.6\n",
        "xp = [2, 4, 6]\n",
        "fp = [1, 3, 5]\n",
        "   \n",
        "gfg = np.interp(x, xp, fp)\n",
        "  \n",
        "print (gfg)"
      ]
    },
    {
      "cell_type": "markdown",
      "metadata": {
        "id": "qCLyB9xYbX4Q"
      },
      "source": [
        "#### 99. Given an integer n and a 2D array X, select from X the rows which can be interpreted as draws from a multinomial distribution with n degrees, i.e., the rows which only contain integers and which sum to n. (★★★) \n",
        "(**hint**: np.logical\\_and.reduce, np.mod)"
      ]
    },
    {
      "cell_type": "code",
      "execution_count": 80,
      "metadata": {
        "colab": {
          "base_uri": "https://localhost:8080/"
        },
        "id": "0OIBS1EHbX4Q",
        "outputId": "07511dcd-8559-428d-aa9f-6f49b4e8b286"
      },
      "outputs": [
        {
          "output_type": "stream",
          "name": "stdout",
          "text": [
            "[[2. 0. 1. 1.]]\n"
          ]
        }
      ],
      "source": [
        "X = np.asarray([[1.0, 0.0, 3.0, 8.0],\n",
        "                [2.0, 0.0, 1.0, 1.0],\n",
        "                [1.5, 2.5, 1.0, 0.0]])\n",
        "n = 4\n",
        "M = np.logical_and.reduce(np.mod(X, 1) == 0, axis=-1)\n",
        "M &= (X.sum(axis=-1) == n)\n",
        "print(X[M])"
      ]
    },
    {
      "cell_type": "markdown",
      "metadata": {
        "id": "WyiMd1OObX4Q"
      },
      "source": [
        "#### 100. Compute bootstrapped 95% confidence intervals for the mean of a 1D array X (i.e., resample the elements of an array with replacement N times, compute the mean of each sample, and then compute percentiles over the means). (★★★) \n",
        "(**hint**: np.percentile)"
      ]
    },
    {
      "cell_type": "code",
      "execution_count": 81,
      "metadata": {
        "colab": {
          "base_uri": "https://localhost:8080/"
        },
        "id": "ELY2F_SFbX4Q",
        "outputId": "3f5b39c5-a0a5-4b14-e4b0-17588323f603"
      },
      "outputs": [
        {
          "output_type": "stream",
          "name": "stdout",
          "text": [
            "[-0.30434911  0.04556585]\n"
          ]
        }
      ],
      "source": [
        "X = np.random.randn(100) \n",
        "N = 1000 # number of bootstrap samples\n",
        "idx = np.random.randint(0, X.size, (N, X.size))\n",
        "means = X[idx].mean(axis=1)\n",
        "confint = np.percentile(means, [2.5, 97.5])\n",
        "print(confint)"
      ]
    }
  ],
  "metadata": {
    "kernelspec": {
      "display_name": "Python 3",
      "language": "python",
      "name": "python3"
    },
    "language_info": {
      "codemirror_mode": {
        "name": "ipython",
        "version": 3
      },
      "file_extension": ".py",
      "mimetype": "text/x-python",
      "name": "python",
      "nbconvert_exporter": "python",
      "pygments_lexer": "ipython3",
      "version": "3.8.3"
    },
    "colab": {
      "provenance": [],
      "include_colab_link": true
    }
  },
  "nbformat": 4,
  "nbformat_minor": 0
}